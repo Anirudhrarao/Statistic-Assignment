{
 "cells": [
  {
   "cell_type": "markdown",
   "id": "e49e8db8",
   "metadata": {},
   "source": [
    "#### Q1: What is the difference between a t-test and a z-test? Provide an example scenario where you would use each type of test."
   ]
  },
  {
   "cell_type": "markdown",
   "id": "6e1dd531",
   "metadata": {},
   "source": [
    "Z-test is statistical hypothesis used to determine whether the two sample mean calculated are different if standard deviation available and the sample size is large."
   ]
  },
  {
   "cell_type": "markdown",
   "id": "d984228e",
   "metadata": {},
   "source": [
    "T-test determines how averages of different data sets differ in case the standard deviation or the variance is unknown."
   ]
  },
  {
   "cell_type": "markdown",
   "id": "0ca43682",
   "metadata": {},
   "source": [
    "Example:\n",
    "    \n",
    "t-test:\n",
    "\n",
    "Testing whether the average height of population is significantly different from a known value.\n",
    "\n",
    "Z-test: \n",
    "\n",
    "Testing whether the average score on test significantly different between two groups of students."
   ]
  },
  {
   "cell_type": "markdown",
   "id": "2e8be0b7",
   "metadata": {},
   "source": [
    "#### Q2: Differentiate between one-tailed and two-tailed tests."
   ]
  },
  {
   "cell_type": "markdown",
   "id": "be938cf5",
   "metadata": {},
   "source": [
    "The main difference between one-tailed and two-tailed is that in one-tailed tests will only have one critical region whereas in two-tailed tests will have two critcal regions."
   ]
  },
  {
   "cell_type": "markdown",
   "id": "8d0d1271",
   "metadata": {},
   "source": [
    "#### Q3: Explain the concept of Type 1 and Type 2 errors in hypothesis testing. Provide an example scenario for each type of error."
   ]
  },
  {
   "cell_type": "markdown",
   "id": "5a12d822",
   "metadata": {},
   "source": [
    "A type-1 error occurs when the null hypothesis rejected, even though it is true in reality.\n",
    "\n",
    "example:\n",
    "\n",
    "A medical test that falsely detects a disease in healthy person. in this case null hypothesis is that \n",
    "person is healthy.\n",
    "and alternative hypothesis is that person has disease.\n",
    "If the medical test falsely detects the disease (i.e., rejects the null hypothesis) when the person is actually healthy, it is a Type I error."
   ]
  },
  {
   "cell_type": "markdown",
   "id": "a5259831",
   "metadata": {},
   "source": [
    "A type-2 error occurs when the null hypothesis is not rejected, even though in reality null hypothesis  is false.\n",
    "\n",
    "example:\n",
    "\n",
    "A medical test that fails to detect a disease in a sick person. In this case, the null hypothesis is that the person is healthy, and the alternative hypothesis is that the person has the disease. If the medical test fails to detect the disease (i.e., fails to reject the null hypothesis) when the person is actually sick, it is a Type II error."
   ]
  },
  {
   "cell_type": "markdown",
   "id": "faea7ff1",
   "metadata": {},
   "source": [
    "#### Q4: Explain Bayes's theorem with an example."
   ]
  },
  {
   "cell_type": "markdown",
   "id": "5887fb5f",
   "metadata": {},
   "source": [
    "Bayes's theorem describes the probability of event base on prior knowledge of conditions.\n",
    "\n",
    "formula:\n",
    "\n",
    "P(A|B) = P(B|A) * P(A) / P(B)\n",
    "\n",
    "example:\n",
    "\n",
    "Risk of health problems increase with age."
   ]
  },
  {
   "cell_type": "markdown",
   "id": "a91f4491",
   "metadata": {},
   "source": [
    "#### Q5: What is a confidence interval? How to calculate the confidence interval, explain with an example."
   ]
  },
  {
   "cell_type": "markdown",
   "id": "71039055",
   "metadata": {},
   "source": [
    "A range of estimate for an unknown parameters.\n",
    "\n",
    "formula:\n",
    "\n",
    "(CI) = sample mean ± Z(S ÷ √n)"
   ]
  },
  {
   "cell_type": "markdown",
   "id": "54e4d8e1",
   "metadata": {},
   "source": [
    "#### Q6. Use Bayes' Theorem to calculate the probability of an event occurring given prior knowledge of the event's probability and new evidence. Provide a sample problem and solution."
   ]
  },
  {
   "cell_type": "markdown",
   "id": "2dc2ad0a",
   "metadata": {},
   "source": [
    "Problem:\n",
    "Suppose a company produces two types of light bulbs: type A and type B. Type A bulbs have a failure rate of 2%, while type B bulbs have a failure rate of 5%. If a bulb is randomly selected from the production line and tested, and it is found to be defective, what is the probability that it is a type A bulb?\n",
    "\n",
    "Solution:\n",
    "Let's use the following notation: A = the event that the bulb is a type A bulb, B = the event that the bulb is defective. We are looking for the conditional probability P(A|B), which is the probability that the bulb is a type A given that it is defective.\n",
    "\n",
    "We know that the prior probabilities are P(A) = 0.5 (since the company produces equal numbers of type A and type B bulbs) and P(B) = 0.02 * 0.5 + 0.05 * 0.5 = 0.035 (since the probability of a defective bulb is the weighted average of the failure rates of type A and type B bulbs).\n",
    "\n",
    "We also know that the probability of a defective bulb given that it is of type A is P(B|A) = 0.02, while the probability of a defective bulb given that it is of type B is P(B|not A) = 0.05.\n",
    "\n",
    "Using Bayes' theorem, we can calculate the probability of the bulb being of type A given that it is defective:\n",
    "\n",
    "P(A|B) = P(B|A) * P(A) / P(B|A) * P(A) + P(B|not A) * P(not A)\n",
    "= 0.02 * 0.5 / (0.02 * 0.5 + 0.05 * 0.5)\n",
    "= 0.286\n",
    "\n",
    "Therefore, the probability that the defective bulb is of type A is 0.286 or 28.6%."
   ]
  },
  {
   "cell_type": "markdown",
   "id": "19af209c",
   "metadata": {},
   "source": [
    "#### Q7. Calculate the 95% confidence interval for a sample of data with a mean of 50 and a standard deviation of 5. Interpret the results."
   ]
  },
  {
   "cell_type": "markdown",
   "id": "44a25301",
   "metadata": {},
   "source": [
    "(CI) = sample mean ± Z(S ÷ √n)"
   ]
  },
  {
   "cell_type": "markdown",
   "id": "b7e97464",
   "metadata": {},
   "source": [
    "mean = 50, critical value for 95%  CI is 1.96, sample = 5"
   ]
  },
  {
   "cell_type": "markdown",
   "id": "8e7f0550",
   "metadata": {},
   "source": [
    "CI = 50 ± 1.96(5 ÷ √n)"
   ]
  },
  {
   "cell_type": "markdown",
   "id": "11f50fbe",
   "metadata": {},
   "source": [
    "95% of the interval of true mean population and in other 5% chance of falls true mean outside of the interval."
   ]
  },
  {
   "cell_type": "markdown",
   "id": "80d4b698",
   "metadata": {},
   "source": [
    "#### Q8. What is the margin of error in a confidence interval? How does sample size affect the margin of error? Provide an example of a scenario where a larger sample size would result in a smaller margin of error."
   ]
  },
  {
   "cell_type": "markdown",
   "id": "73f38c2c",
   "metadata": {},
   "source": [
    "The margin of error in CI is a amount by which the interval may differ from the true population parameter.\n",
    "\n",
    "formula:\n",
    "\n",
    "Margin of error = Zα/2 * σ / √n\n",
    "\n",
    "\n",
    "Sample size has a direct impact on the margin of error. Generally, larger sample sizes lead to smaller margins of error, while smaller sample sizes lead to larger margins of error.\n"
   ]
  },
  {
   "cell_type": "markdown",
   "id": "1020482b",
   "metadata": {},
   "source": [
    "#### Q9. Calculate the z-score for a data point with a value of 75, a population mean of 70, and a population standard deviation of 5. Interpret the results."
   ]
  },
  {
   "cell_type": "markdown",
   "id": "223e8556",
   "metadata": {},
   "source": [
    "x = 70, μ = 75, σ = 5\n",
    "\n",
    "formula: z = (x - μ) / σ\n",
    "\n",
    "z = (75-70)/5\n",
    "\n",
    "z = 1\n",
    "\n",
    "a z-score of 1 means that the data point of 75 is one standard deviation above the population mean of 70."
   ]
  },
  {
   "cell_type": "markdown",
   "id": "0d6df4fc",
   "metadata": {},
   "source": [
    "#### Q10. In a study of the effectiveness of a new weight loss drug, a sample of 50 participants lost an average of 6 pounds with a standard deviation of 2.5 pounds. Conduct a hypothesis test to determine if the drug is significantly effective at a 95% confidence level using a t-test."
   ]
  },
  {
   "cell_type": "markdown",
   "id": "278caba6",
   "metadata": {},
   "source": [
    "x̄ = 6 , μ = 0, degree of freedom = 49, s = 2.5, alpha = 0.05\n",
    "\n",
    "H0: The drug is not effective.\n",
    "\n",
    "H1: The drug is effective\n",
    "\n",
    "formula : t = (x̄ - μ) / (s / sqrt(n))\n",
    "\n",
    "t = (6-0) / (2.5/sqrt(50))\n",
    "\n",
    "t = 13.42\n",
    "\n",
    "The critical value of dof and alpha is 1.6766.\n",
    "\n",
    "Since the t-value greater than critical value so we can reject null hypothesis."
   ]
  },
  {
   "cell_type": "markdown",
   "id": "4ffea884",
   "metadata": {},
   "source": [
    "#### Q11. In a survey of 500 people, 65% reported being satisfied with their current job. Calculate the 95% confidence interval for the true proportion of people who are satisfied with their job."
   ]
  },
  {
   "cell_type": "markdown",
   "id": "dc2d1ade",
   "metadata": {},
   "source": [
    "CI = p ± zsqrt(p(1-p)/n)\n",
    "\n",
    "p = sample proportion\n",
    "\n",
    "z = z-score value for CI of 95% is 1.96\n",
    "\n",
    "n = sample size\n",
    "\n",
    "p = 65/100 = 0.65\n",
    "\n",
    "z = 1.96\n",
    "\n",
    "n = 500\n",
    "\n",
    "let's put all the value to formula and calculate it\n",
    "\n",
    "CI = 0.65 ± 1.96 sqrt(0.65(1-0.65)/500)\n",
    "\n",
    "= 0.65 ± 0.045\n",
    "\n",
    "= (0.605, 0.695)\n",
    "\n",
    "\n",
    "Therefore, we can say with 95% confidence that the true proportion of people who are satisfied with their job falls within the interval of 0.605 to 0.695. "
   ]
  },
  {
   "cell_type": "markdown",
   "id": "685815fb",
   "metadata": {},
   "source": [
    "#### Q12. A researcher is testing the effectiveness of two different teaching methods on student performance. Sample A has a mean score of 85 with a standard deviation of 6, while sample B has a mean score of 82 with a standard deviation of 5. Conduct a hypothesis test to determine if the two teaching methods have a significant difference in student performance using a t-test with a significance level of 0.01."
   ]
  },
  {
   "cell_type": "markdown",
   "id": "cbe5607e",
   "metadata": {},
   "source": [
    "x1 = 85\n",
    "\n",
    "x2 = 82\n",
    "\n",
    "s1 = 6\n",
    "\n",
    "s2 = 5\n",
    "\n",
    "n1 = 50\n",
    "\n",
    "n2 = 50\n",
    "\n",
    "degree of freedom  = n1-1, n2-2 = 98\n",
    "\n",
    "critcal value =  ±2.614\n",
    "\n",
    "H0: The teaching method has no significance difference in students performance.\n",
    "\n",
    "H1: The teaching method has significance difference in students performance.\n",
    "\n",
    "FORMULA: t = (x̄1 - x̄2) / sqrt((s1^2/n1) + (s2^2/n2))\n",
    "\n",
    "Put all the values to formula and calculate the t-value.\n",
    "\n",
    "t = (85 - 82) / sqrt((6^2/50) + (5^2/50)) = 2.57\n",
    "\n",
    "Since our t-value is smaller than critical value so we cannot reject the H0.\n",
    "therefore the teaching method has no significance difference in students performance."
   ]
  },
  {
   "cell_type": "markdown",
   "id": "c1b48d27",
   "metadata": {},
   "source": [
    "#### Q13. A population has a mean of 60 and a standard deviation of 8. A sample of 50 observations has a mean of 65. Calculate the 90% confidence interval for the true population mean."
   ]
  },
  {
   "cell_type": "markdown",
   "id": "d13a1e4f",
   "metadata": {},
   "source": [
    "CI = x̄ ± z*(σ/√n)\n",
    "\n",
    "x = 65\n",
    "\n",
    "σ = 8\n",
    "\n",
    "n = 50\n",
    "\n",
    "z = 1.645 for 90%\n",
    "\n",
    "CI = 65 ± 1.645(8/√50)\n",
    "\n",
    "CI = (62.674, 67.326)\n",
    "\n",
    "The population means falls whithin the interval of 62.674 to 67.326."
   ]
  }
 ],
 "metadata": {
  "kernelspec": {
   "display_name": "Python 3 (ipykernel)",
   "language": "python",
   "name": "python3"
  },
  "language_info": {
   "codemirror_mode": {
    "name": "ipython",
    "version": 3
   },
   "file_extension": ".py",
   "mimetype": "text/x-python",
   "name": "python",
   "nbconvert_exporter": "python",
   "pygments_lexer": "ipython3",
   "version": "3.11.2"
  }
 },
 "nbformat": 4,
 "nbformat_minor": 5
}

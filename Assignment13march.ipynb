{
 "cells": [
  {
   "cell_type": "markdown",
   "id": "a94008a1",
   "metadata": {},
   "source": [
    "#### Q1. Explain the assumptions required to use ANOVA and provide examples of violations that could impact the validity of the results."
   ]
  },
  {
   "cell_type": "markdown",
   "id": "a4227777",
   "metadata": {},
   "source": [
    "1. Normality of sampling distributions of mean.\n",
    "\n",
    "    The distribution of sample mean normally distributed.\n",
    "    \n",
    "2. Absence of outliers\n",
    "\n",
    "    Outlying score need to be removed from the datasets.\n",
    "    \n",
    "3. Homogenity of variance \n",
    "    \n",
    "    Population variance in different level of each independent variable are equal.\n",
    "    \n",
    "4. Sample are independent and randomly selected."
   ]
  },
  {
   "cell_type": "markdown",
   "id": "68bebf6d",
   "metadata": {},
   "source": [
    "#### Q2. What are the three types of ANOVA, and in what situations would each be used?"
   ]
  },
  {
   "cell_type": "markdown",
   "id": "9c7d202e",
   "metadata": {},
   "source": [
    "There are three types of anova:\n",
    "1. One-way anova:\n",
    "\n",
    "    One factor with atleast 2 levels and these levels are independent.\n",
    "2. Repeated measure anova:\n",
    "\n",
    "    One factor with atleast 2 level and these levels are dependent.\n",
    "3. Factorial anova:\n",
    "\n",
    "    Two or more factor (each of which atleast) two levels, level can be independent or dependent."
   ]
  },
  {
   "cell_type": "markdown",
   "id": "9ae03a36",
   "metadata": {},
   "source": [
    "#### Q3. What is the partitioning of variance in ANOVA, and why is it important to understand this concept?"
   ]
  },
  {
   "cell_type": "markdown",
   "id": "11c9b036",
   "metadata": {},
   "source": [
    "Partitioning of variance is anova is a technique widely used in statistical analysis to evaluate whether there is significant difference between groups or treatment.\n",
    "\n",
    "In anova the total variance divided into two components: the variance between two groups and variance within group.\n",
    "\n",
    "by understanding the partitioning of variance, we can determine whether the results of an experiment are reliable and whether they can be generalized to a larger population."
   ]
  },
  {
   "cell_type": "markdown",
   "id": "46d98ef9",
   "metadata": {},
   "source": [
    "#### Q4. How would you calculate the total sum of squares (SST), explained sum of squares (SSE), and residual sum of squares (SSR) in a one-way ANOVA using Python?"
   ]
  },
  {
   "cell_type": "code",
   "execution_count": 4,
   "id": "136cbb03",
   "metadata": {},
   "outputs": [],
   "source": [
    "import pandas as pd\n",
    "import statsmodels.api as sm\n",
    "import numpy as np"
   ]
  },
  {
   "cell_type": "code",
   "execution_count": 5,
   "id": "26dfc6f9",
   "metadata": {},
   "outputs": [],
   "source": [
    "df = pd.DataFrame({'hours': [1, 1, 1, 2, 2, 2, 2, 2, 3, 3,\n",
    "                             3, 4, 4, 4, 5, 5, 6, 7, 7, 8],\n",
    "                   'score': [68, 76, 74, 80, 76, 78, 81, 84, 86, 83,\n",
    "                             88, 85, 89, 94, 93, 94, 96, 89, 92, 97]})"
   ]
  },
  {
   "cell_type": "code",
   "execution_count": 7,
   "id": "3e25d8c4",
   "metadata": {},
   "outputs": [
    {
     "data": {
      "text/html": [
       "<div>\n",
       "<style scoped>\n",
       "    .dataframe tbody tr th:only-of-type {\n",
       "        vertical-align: middle;\n",
       "    }\n",
       "\n",
       "    .dataframe tbody tr th {\n",
       "        vertical-align: top;\n",
       "    }\n",
       "\n",
       "    .dataframe thead th {\n",
       "        text-align: right;\n",
       "    }\n",
       "</style>\n",
       "<table border=\"1\" class=\"dataframe\">\n",
       "  <thead>\n",
       "    <tr style=\"text-align: right;\">\n",
       "      <th></th>\n",
       "      <th>hours</th>\n",
       "      <th>score</th>\n",
       "    </tr>\n",
       "  </thead>\n",
       "  <tbody>\n",
       "    <tr>\n",
       "      <th>0</th>\n",
       "      <td>1</td>\n",
       "      <td>68</td>\n",
       "    </tr>\n",
       "    <tr>\n",
       "      <th>1</th>\n",
       "      <td>1</td>\n",
       "      <td>76</td>\n",
       "    </tr>\n",
       "    <tr>\n",
       "      <th>2</th>\n",
       "      <td>1</td>\n",
       "      <td>74</td>\n",
       "    </tr>\n",
       "    <tr>\n",
       "      <th>3</th>\n",
       "      <td>2</td>\n",
       "      <td>80</td>\n",
       "    </tr>\n",
       "    <tr>\n",
       "      <th>4</th>\n",
       "      <td>2</td>\n",
       "      <td>76</td>\n",
       "    </tr>\n",
       "    <tr>\n",
       "      <th>5</th>\n",
       "      <td>2</td>\n",
       "      <td>78</td>\n",
       "    </tr>\n",
       "    <tr>\n",
       "      <th>6</th>\n",
       "      <td>2</td>\n",
       "      <td>81</td>\n",
       "    </tr>\n",
       "    <tr>\n",
       "      <th>7</th>\n",
       "      <td>2</td>\n",
       "      <td>84</td>\n",
       "    </tr>\n",
       "    <tr>\n",
       "      <th>8</th>\n",
       "      <td>3</td>\n",
       "      <td>86</td>\n",
       "    </tr>\n",
       "    <tr>\n",
       "      <th>9</th>\n",
       "      <td>3</td>\n",
       "      <td>83</td>\n",
       "    </tr>\n",
       "    <tr>\n",
       "      <th>10</th>\n",
       "      <td>3</td>\n",
       "      <td>88</td>\n",
       "    </tr>\n",
       "    <tr>\n",
       "      <th>11</th>\n",
       "      <td>4</td>\n",
       "      <td>85</td>\n",
       "    </tr>\n",
       "    <tr>\n",
       "      <th>12</th>\n",
       "      <td>4</td>\n",
       "      <td>89</td>\n",
       "    </tr>\n",
       "    <tr>\n",
       "      <th>13</th>\n",
       "      <td>4</td>\n",
       "      <td>94</td>\n",
       "    </tr>\n",
       "    <tr>\n",
       "      <th>14</th>\n",
       "      <td>5</td>\n",
       "      <td>93</td>\n",
       "    </tr>\n",
       "    <tr>\n",
       "      <th>15</th>\n",
       "      <td>5</td>\n",
       "      <td>94</td>\n",
       "    </tr>\n",
       "    <tr>\n",
       "      <th>16</th>\n",
       "      <td>6</td>\n",
       "      <td>96</td>\n",
       "    </tr>\n",
       "    <tr>\n",
       "      <th>17</th>\n",
       "      <td>7</td>\n",
       "      <td>89</td>\n",
       "    </tr>\n",
       "    <tr>\n",
       "      <th>18</th>\n",
       "      <td>7</td>\n",
       "      <td>92</td>\n",
       "    </tr>\n",
       "    <tr>\n",
       "      <th>19</th>\n",
       "      <td>8</td>\n",
       "      <td>97</td>\n",
       "    </tr>\n",
       "  </tbody>\n",
       "</table>\n",
       "</div>"
      ],
      "text/plain": [
       "    hours  score\n",
       "0       1     68\n",
       "1       1     76\n",
       "2       1     74\n",
       "3       2     80\n",
       "4       2     76\n",
       "5       2     78\n",
       "6       2     81\n",
       "7       2     84\n",
       "8       3     86\n",
       "9       3     83\n",
       "10      3     88\n",
       "11      4     85\n",
       "12      4     89\n",
       "13      4     94\n",
       "14      5     93\n",
       "15      5     94\n",
       "16      6     96\n",
       "17      7     89\n",
       "18      7     92\n",
       "19      8     97"
      ]
     },
     "execution_count": 7,
     "metadata": {},
     "output_type": "execute_result"
    }
   ],
   "source": [
    "df"
   ]
  },
  {
   "cell_type": "code",
   "execution_count": 11,
   "id": "14edbedc",
   "metadata": {},
   "outputs": [],
   "source": [
    "x = df['hours']\n",
    "y = df[['score']]"
   ]
  },
  {
   "cell_type": "code",
   "execution_count": 14,
   "id": "2272c3e8",
   "metadata": {},
   "outputs": [],
   "source": [
    "x = sm.add_constant(x)"
   ]
  },
  {
   "cell_type": "code",
   "execution_count": 15,
   "id": "00b00d4a",
   "metadata": {},
   "outputs": [],
   "source": [
    "model = sm.OLS(y,x).fit()"
   ]
  },
  {
   "cell_type": "code",
   "execution_count": 17,
   "id": "3d826695",
   "metadata": {},
   "outputs": [],
   "source": [
    "SSE = np.sum((model.fittedvalues - df.score) ** 2)"
   ]
  },
  {
   "cell_type": "code",
   "execution_count": 18,
   "id": "53850f0f",
   "metadata": {},
   "outputs": [
    {
     "data": {
      "text/plain": [
       "331.07488479262696"
      ]
     },
     "execution_count": 18,
     "metadata": {},
     "output_type": "execute_result"
    }
   ],
   "source": [
    "SSE"
   ]
  },
  {
   "cell_type": "code",
   "execution_count": 19,
   "id": "228e0396",
   "metadata": {},
   "outputs": [],
   "source": [
    "SSR = np.sum((model.fittedvalues - df.score.mean()) ** 2)"
   ]
  },
  {
   "cell_type": "code",
   "execution_count": 20,
   "id": "bcf6d3cf",
   "metadata": {},
   "outputs": [
    {
     "data": {
      "text/plain": [
       "917.4751152073725"
      ]
     },
     "execution_count": 20,
     "metadata": {},
     "output_type": "execute_result"
    }
   ],
   "source": [
    "SSR"
   ]
  },
  {
   "cell_type": "code",
   "execution_count": 21,
   "id": "f3b0c06b",
   "metadata": {},
   "outputs": [],
   "source": [
    "SST = SSE + SSR"
   ]
  },
  {
   "cell_type": "code",
   "execution_count": 22,
   "id": "80e094fe",
   "metadata": {},
   "outputs": [
    {
     "data": {
      "text/plain": [
       "1248.5499999999995"
      ]
     },
     "execution_count": 22,
     "metadata": {},
     "output_type": "execute_result"
    }
   ],
   "source": [
    "SST"
   ]
  },
  {
   "cell_type": "markdown",
   "id": "450e753b",
   "metadata": {},
   "source": [
    "#### Q5. In a two-way ANOVA, how would you calculate the main effects and interaction effects using Python?"
   ]
  },
  {
   "cell_type": "code",
   "execution_count": null,
   "id": "6b4156f3",
   "metadata": {},
   "outputs": [],
   "source": []
  },
  {
   "cell_type": "markdown",
   "id": "e8aa2fa9",
   "metadata": {},
   "source": [
    "##### Q6. Suppose you conducted a one-way ANOVA and obtained an F-statistic of 5.23 and a p-value of 0.02. What can you conclude about the differences between the groups, and how would you interpret these results?"
   ]
  },
  {
   "cell_type": "markdown",
   "id": "d9759d66",
   "metadata": {},
   "source": [
    "We conclude that there is statistical significant different between at least one pair o group.\n",
    "here we reject the null hypothesis and accept the alternative hypthesis because p-value is less than threshold value 0.05."
   ]
  },
  {
   "cell_type": "markdown",
   "id": "bc5a4cb8",
   "metadata": {},
   "source": [
    "#### Q7. In a repeated measures ANOVA, how would you handle missing data, and what are the potential  consequences of using different methods to handle missing data?"
   ]
  },
  {
   "cell_type": "markdown",
   "id": "be9c5c38",
   "metadata": {},
   "source": [
    "Handling missing data in repeated measure anova depends on missingness of data and missing data can classified into three groups: MCAR, MAR, MNAR."
   ]
  },
  {
   "cell_type": "markdown",
   "id": "94c504e7",
   "metadata": {},
   "source": [
    "#### Q8. What are some common post-hoc tests used after ANOVA, and when would you use each one? Provide an example of a situation where a post-hoc test might be necessary."
   ]
  },
  {
   "cell_type": "markdown",
   "id": "731a57da",
   "metadata": {},
   "source": [
    "After conducting anova, post-hoc test are often used to determine which group mean are significantly different from each other.\n",
    "\n",
    "Types of post-hoc:\n",
    "1. Tukey's HSD\n",
    "2. Bonferroni Correlation\n",
    "3. Scheffe's method\n",
    "4. Dunnett's test\n",
    "\n",
    "Suppose a researcher wants to determine if there is a significant difference in the mean scores of three groups on a test. The researcher conducts an ANOVA and finds a significant difference between the three groups. However, the ANOVA only tells the researcher that there is a difference among the means, but does not identify which groups are significantly different from each other. In this case, the researcher would conduct a post-hoc test, such as Tukey's HSD or Bonferroni correction, to determine which pairs of groups are significantly different from each other"
   ]
  },
  {
   "cell_type": "markdown",
   "id": "7d56440d",
   "metadata": {},
   "source": [
    "#### Q9. A researcher wants to compare the mean weight loss of three diets: A, B, and C. They collect data from 50 participants who were randomly assigned to one of the diets. Conduct a one-way ANOVA using Python to determine if there are any significant differences between the mean weight loss of the three diets. Report the F-statistic and p-value, and interpret the results."
   ]
  },
  {
   "cell_type": "markdown",
   "id": "5b02c3d5",
   "metadata": {},
   "source": [
    "H0 :- There is significance difference between  mean weight loss.\n",
    "\n",
    "H1 :- There is no significance difference  between mean weight loss. "
   ]
  },
  {
   "cell_type": "code",
   "execution_count": 52,
   "id": "541fb476",
   "metadata": {},
   "outputs": [],
   "source": [
    "import numpy as np\n",
    "from scipy.stats import f_oneway"
   ]
  },
  {
   "cell_type": "code",
   "execution_count": 53,
   "id": "7e6fbf46",
   "metadata": {},
   "outputs": [],
   "source": [
    "diet_a = np.random.normal(5,1,50) # Mean weight loss of 5 lbs and standard deviation of 1 lb\n",
    "diet_b = np.random.normal(6,1,50)\n",
    "diet_c = np.random.normal(4,1,50)"
   ]
  },
  {
   "cell_type": "code",
   "execution_count": 54,
   "id": "44714da2",
   "metadata": {},
   "outputs": [],
   "source": [
    "# Combine all the data in single list or array\n",
    "all_data = np.concatenate([diet_a,diet_b,diet_c])"
   ]
  },
  {
   "cell_type": "code",
   "execution_count": 55,
   "id": "53e741b0",
   "metadata": {},
   "outputs": [],
   "source": [
    "# Create the list of lables for the three diets\n",
    "lables = ['A'] * 50 + ['B'] * 50 + ['C'] * 50"
   ]
  },
  {
   "cell_type": "code",
   "execution_count": 56,
   "id": "f5807c23",
   "metadata": {},
   "outputs": [],
   "source": [
    "f_stat, p_val = f_oneway(diet_a,diet_b,diet_c)"
   ]
  },
  {
   "cell_type": "code",
   "execution_count": 57,
   "id": "05ba0941",
   "metadata": {},
   "outputs": [
    {
     "data": {
      "text/plain": [
       "60.80384360889849"
      ]
     },
     "execution_count": 57,
     "metadata": {},
     "output_type": "execute_result"
    }
   ],
   "source": [
    "f_stat"
   ]
  },
  {
   "cell_type": "code",
   "execution_count": 58,
   "id": "a14e732b",
   "metadata": {},
   "outputs": [
    {
     "data": {
      "text/plain": [
       "5.722936792622542e-20"
      ]
     },
     "execution_count": 58,
     "metadata": {},
     "output_type": "execute_result"
    }
   ],
   "source": [
    "p_val"
   ]
  },
  {
   "cell_type": "code",
   "execution_count": 59,
   "id": "4ff8d477",
   "metadata": {},
   "outputs": [
    {
     "name": "stdout",
     "output_type": "stream",
     "text": [
      "We reject the null hypothesis.\n"
     ]
    }
   ],
   "source": [
    "if f_stat > p_val:\n",
    "    print('We reject the null hypothesis.')\n",
    "else:\n",
    "    print('We failed to reject null hypothesis')"
   ]
  },
  {
   "cell_type": "markdown",
   "id": "f81ef049",
   "metadata": {},
   "source": [
    "#### Q10. A company wants to know if there are any significant differences in the average time it takes to complete a task using three different software programs: Program A, Program B, and Program C. They randomly assign 30 employees to one of the programs and record the time it takes each employee to complete the task. Conduct a two-way ANOVA using Python to determine if there are any main effects or interaction effects between the software programs and employee experience level (novice vs. experienced). Report the F-statistics and p-values, and interpret the results."
   ]
  },
  {
   "cell_type": "markdown",
   "id": "dd9459a6",
   "metadata": {},
   "source": [
    "H0 :- There is significance difference in the avg time take to complete task by programs.\n",
    "\n",
    "H1 :- There is no significance difference in the avg time take to complete task by programs.\n"
   ]
  },
  {
   "cell_type": "markdown",
   "id": "0d8ee3fa",
   "metadata": {},
   "source": [
    "#### Q11. An educational researcher is interested in whether a new teaching method improves student test scores. They randomly assign 100 students to either the control group (traditional teaching method) or the experimental group (new teaching method) and administer a test at the end of the semester. Conduct a two-sample t-test using Python to determine if there are any significant differences in test scores between the two groups. If the results are significant, follow up with a post-hoc test to determine which group(s) differ significantly from each other."
   ]
  },
  {
   "cell_type": "markdown",
   "id": "a1bffc86",
   "metadata": {},
   "source": [
    "H0 :- There is significance difference teaching method improves students test score.\n",
    "\n",
    "H1 :- There is no significance difference teaching method that affect the student test score."
   ]
  },
  {
   "cell_type": "code",
   "execution_count": 60,
   "id": "b3d5be91",
   "metadata": {},
   "outputs": [],
   "source": [
    "import numpy as np\n",
    "from scipy.stats import ttest_ind"
   ]
  },
  {
   "cell_type": "code",
   "execution_count": 61,
   "id": "4670ccb4",
   "metadata": {},
   "outputs": [],
   "source": [
    "n = 100\n",
    "control_score = np.random.normal(loc=75,scale=10,size=n)\n",
    "experimental_score  = np.random.normal(loc=75,scale=10,size=n)"
   ]
  },
  {
   "cell_type": "code",
   "execution_count": 63,
   "id": "03ad0c67",
   "metadata": {},
   "outputs": [],
   "source": [
    "t_stat,p_val = ttest_ind(control_score,experimental_score)"
   ]
  },
  {
   "cell_type": "code",
   "execution_count": 64,
   "id": "dba6592c",
   "metadata": {},
   "outputs": [
    {
     "data": {
      "text/plain": [
       "2.7310515304993053"
      ]
     },
     "execution_count": 64,
     "metadata": {},
     "output_type": "execute_result"
    }
   ],
   "source": [
    "t_stat"
   ]
  },
  {
   "cell_type": "code",
   "execution_count": 65,
   "id": "49541cc1",
   "metadata": {},
   "outputs": [
    {
     "data": {
      "text/plain": [
       "0.006883260453447055"
      ]
     },
     "execution_count": 65,
     "metadata": {},
     "output_type": "execute_result"
    }
   ],
   "source": [
    "p_val"
   ]
  },
  {
   "cell_type": "code",
   "execution_count": 66,
   "id": "85c46506",
   "metadata": {},
   "outputs": [
    {
     "name": "stdout",
     "output_type": "stream",
     "text": [
      "We reject the null hypothesis\n"
     ]
    }
   ],
   "source": [
    "if t_stat > p_val:\n",
    "    print('We reject the null hypothesis')\n",
    "else:\n",
    "    print('We failed to reject null hypothesis.')"
   ]
  },
  {
   "cell_type": "code",
   "execution_count": null,
   "id": "2ca194a3",
   "metadata": {},
   "outputs": [],
   "source": []
  }
 ],
 "metadata": {
  "kernelspec": {
   "display_name": "Python 3 (ipykernel)",
   "language": "python",
   "name": "python3"
  },
  "language_info": {
   "codemirror_mode": {
    "name": "ipython",
    "version": 3
   },
   "file_extension": ".py",
   "mimetype": "text/x-python",
   "name": "python",
   "nbconvert_exporter": "python",
   "pygments_lexer": "ipython3",
   "version": "3.11.2"
  }
 },
 "nbformat": 4,
 "nbformat_minor": 5
}

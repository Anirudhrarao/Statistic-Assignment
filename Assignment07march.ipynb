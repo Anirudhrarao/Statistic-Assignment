{
 "cells": [
  {
   "cell_type": "markdown",
   "id": "5f9bb0fe",
   "metadata": {},
   "source": [
    "#### Q1. What are the three measures of central tendency?"
   ]
  },
  {
   "cell_type": "markdown",
   "id": "70c96f59",
   "metadata": {},
   "source": [
    "There are three measures of central tendacy:\n",
    "1. Mean\n",
    "2. Median\n",
    "3. Mode"
   ]
  },
  {
   "cell_type": "markdown",
   "id": "07480fd3",
   "metadata": {},
   "source": [
    "#### Q2. What is the difference between the mean, median, and mode? How are they used to measure the central tendency of a dataset?"
   ]
  },
  {
   "cell_type": "markdown",
   "id": "64ecf79c",
   "metadata": {},
   "source": [
    "The difference between mean, median and mode are mean is the average of given dataset. \n",
    "median is middlemost value of dataset. whereas the mode is most frequently occurring data."
   ]
  },
  {
   "cell_type": "markdown",
   "id": "d71204de",
   "metadata": {},
   "source": [
    "Basically we performs meausure of central tendancy on numerical data. it is try to summarize the data in single value from dataset."
   ]
  },
  {
   "cell_type": "markdown",
   "id": "23fa26aa",
   "metadata": {},
   "source": [
    "#### Q3. Measure the three measures of central tendency for the given height data:"
   ]
  },
  {
   "cell_type": "code",
   "execution_count": 1,
   "id": "a7e5727b",
   "metadata": {},
   "outputs": [],
   "source": [
    "data = [178,177,176,177,178.2,178,175,179,180,175,178.9,176.2,177,172.5,178,176.5]"
   ]
  },
  {
   "cell_type": "code",
   "execution_count": 2,
   "id": "030d0a50",
   "metadata": {},
   "outputs": [],
   "source": [
    "import numpy as np"
   ]
  },
  {
   "cell_type": "code",
   "execution_count": 3,
   "id": "e9d1a445",
   "metadata": {},
   "outputs": [
    {
     "data": {
      "text/plain": [
       "177.01875"
      ]
     },
     "execution_count": 3,
     "metadata": {},
     "output_type": "execute_result"
    }
   ],
   "source": [
    "np.mean(data)"
   ]
  },
  {
   "cell_type": "code",
   "execution_count": 4,
   "id": "efb7848f",
   "metadata": {},
   "outputs": [
    {
     "data": {
      "text/plain": [
       "177.0"
      ]
     },
     "execution_count": 4,
     "metadata": {},
     "output_type": "execute_result"
    }
   ],
   "source": [
    "np.median(data)"
   ]
  },
  {
   "cell_type": "code",
   "execution_count": 8,
   "id": "d01192e8",
   "metadata": {},
   "outputs": [],
   "source": [
    "from scipy import stats"
   ]
  },
  {
   "cell_type": "code",
   "execution_count": 9,
   "id": "b109b0d2",
   "metadata": {},
   "outputs": [
    {
     "name": "stderr",
     "output_type": "stream",
     "text": [
      "C:\\Users\\DELL\\AppData\\Local\\Temp\\ipykernel_1832\\3267261142.py:1: FutureWarning: Unlike other reduction functions (e.g. `skew`, `kurtosis`), the default behavior of `mode` typically preserves the axis it acts along. In SciPy 1.11.0, this behavior will change: the default value of `keepdims` will become False, the `axis` over which the statistic is taken will be eliminated, and the value None will no longer be accepted. Set `keepdims` to True or False to avoid this warning.\n",
      "  stats.mode(data)\n"
     ]
    },
    {
     "data": {
      "text/plain": [
       "ModeResult(mode=array([177.]), count=array([3]))"
      ]
     },
     "execution_count": 9,
     "metadata": {},
     "output_type": "execute_result"
    }
   ],
   "source": [
    "stats.mode(data)"
   ]
  },
  {
   "cell_type": "markdown",
   "id": "e36ea2b3",
   "metadata": {},
   "source": [
    "#### Q4. Find the standard deviation for the given data:"
   ]
  },
  {
   "cell_type": "code",
   "execution_count": 10,
   "id": "966eebfe",
   "metadata": {},
   "outputs": [],
   "source": [
    "data = [178,177,176,177,178.2,178,175,179,180,175,178.9,176.2,177,172.5,178,176.5]"
   ]
  },
  {
   "cell_type": "code",
   "execution_count": 11,
   "id": "7bc9514d",
   "metadata": {},
   "outputs": [
    {
     "data": {
      "text/plain": [
       "1.7885814036548633"
      ]
     },
     "execution_count": 11,
     "metadata": {},
     "output_type": "execute_result"
    }
   ],
   "source": [
    "np.std(data)"
   ]
  },
  {
   "cell_type": "markdown",
   "id": "c9dc274f",
   "metadata": {},
   "source": [
    "#### Q5. How are measures of dispersion such as range, variance, and standard deviation used to describe the spread of a dataset? Provide an example."
   ]
  },
  {
   "cell_type": "markdown",
   "id": "e561ad10",
   "metadata": {},
   "source": [
    "1. Range is the simplest measure of dispersion. it is simply the total spread in the data, calculated by subtracting the smallest number in the group from the largest number.\n",
    "\n",
    "    Example: 1,2,3,4,5\n",
    "\n",
    "    range = (max - min) = 5-1 = 4"
   ]
  },
  {
   "cell_type": "markdown",
   "id": "84d17df6",
   "metadata": {},
   "source": [
    "2. Variance is subtract mean from each data in the set and square each of them and then add it finally divide them by the total no of value.\n",
    "\n",
    "    Example: 1, 3, 5, 5, 6, 7, 9, 10.\n",
    "\n",
    "    mean = (1+ 3+ 5+ 5+ 6+ 7+ 9+ 10)/8 = 46/ 8 = 5.75\n",
    "\n",
    "    (1 – 5.75), (3 – 5.75), (5 – 5.75), (5 – 5.75), (6 – 5.75), (7 – 5.75), (9 – 5.75), (10 – 5.75)\n",
    "\n",
    "    = -4.75, -2.75, -0.75, -0.75, 0.25, 1.25, 3.25, 4.25\n",
    "\n",
    "    Squaring the above values we get, 22.563, 7.563, 0.563, 0.563, 0.063, 1.563, 10.563, 18.063\n",
    "\n",
    "    22.563 + 7.563 + 0.563 + 0.563 + 0.063 + 1.563 + 10.563 + 18.063\n",
    "    = 61.504\n",
    "\n",
    "    n = 8, therefore variance (σ2) = 61.504/ 8 = 7.69"
   ]
  },
  {
   "cell_type": "markdown",
   "id": "f1ba2477",
   "metadata": {},
   "source": [
    "3. Standard deviation is square root of variance is known as std deviation.\n",
    "\n",
    "   Example: Standard deviation (σ) = 2.77"
   ]
  },
  {
   "cell_type": "markdown",
   "id": "8b250589",
   "metadata": {},
   "source": [
    "#### Q6. What is a Venn diagram?"
   ]
  },
  {
   "cell_type": "markdown",
   "id": "2467aff2",
   "metadata": {},
   "source": [
    "A venn diagram represent mathematical or logical sets pictorially as circle or closed curves within an enclosing rectangle.\n",
    "Illustrate the relationships between two more set."
   ]
  },
  {
   "cell_type": "markdown",
   "id": "8c286be6",
   "metadata": {},
   "source": [
    "#### Q7. For the two given sets A = (2,3,4,5,6,7) & B = (0,2,6,8,10). Find:\n",
    "i. A ⋂ B\n",
    "ii. A ⋃ B"
   ]
  },
  {
   "cell_type": "markdown",
   "id": "58b011c7",
   "metadata": {},
   "source": [
    "A ⋂ B = (2,6)\n",
    "\n",
    "A ⋃ B = (0,2,3,4,5,6,7,8,10)"
   ]
  },
  {
   "cell_type": "markdown",
   "id": "3f3fe810",
   "metadata": {},
   "source": [
    "#### Q8. What do you understand about skewness in data?"
   ]
  },
  {
   "cell_type": "markdown",
   "id": "b749335c",
   "metadata": {},
   "source": [
    "Skewness is how much data set is deviates from its normal distribution.\n",
    "A larger negative value in the data set means the distribution is negatively skewed, and a larger positive value in the data set means the distribution is positive."
   ]
  },
  {
   "cell_type": "markdown",
   "id": "911e0991",
   "metadata": {},
   "source": [
    "### Q9. If a data is right skewed then what will be the position of median with respect to mean?"
   ]
  },
  {
   "cell_type": "markdown",
   "id": "1a31e891",
   "metadata": {},
   "source": [
    "Median is less than mean so it available at second position."
   ]
  },
  {
   "cell_type": "markdown",
   "id": "560dd503",
   "metadata": {},
   "source": [
    "#### Q10. Explain the difference between covariance and correlation. How are these measures used in statistical analysis?"
   ]
  },
  {
   "cell_type": "markdown",
   "id": "e33755e0",
   "metadata": {},
   "source": [
    "Covariance shows you how the two varialbles differ. Whereas correlation shows the how the two variable are related. "
   ]
  },
  {
   "cell_type": "markdown",
   "id": "54f1203c",
   "metadata": {},
   "source": [
    "#### Q11. What is the formula for calculating the sample mean? Provide an example calculation for a dataset."
   ]
  },
  {
   "cell_type": "markdown",
   "id": "b0a71db1",
   "metadata": {},
   "source": [
    "sample mean (s) = xi/n\n",
    "\n",
    "data = 1,3,4,6,8,9\n",
    "\n",
    "s = (1+3+4+6+8+8)/6\n",
    "\n",
    "s = 5"
   ]
  },
  {
   "cell_type": "markdown",
   "id": "0f68f205",
   "metadata": {},
   "source": [
    "#### Q12. For a normal distribution data what is the relationship between its measure of central tendency?"
   ]
  },
  {
   "cell_type": "markdown",
   "id": "d24943a3",
   "metadata": {},
   "source": [
    "Measure of central tendancy mean, median and mode will same. in this case mean is best measure of central tendency."
   ]
  },
  {
   "cell_type": "markdown",
   "id": "83bed9c0",
   "metadata": {},
   "source": [
    "#### Q13. How is covariance different from correlation?"
   ]
  },
  {
   "cell_type": "markdown",
   "id": "320e0df7",
   "metadata": {},
   "source": [
    "Covariance shows you how the two varialbles differ. Whereas correlation shows the how the two variable are related. "
   ]
  },
  {
   "cell_type": "markdown",
   "id": "cf51508b",
   "metadata": {},
   "source": [
    "#### Q14. How do outliers affect measures of central tendency and dispersion? Provide an example."
   ]
  },
  {
   "cell_type": "markdown",
   "id": "4dce43f9",
   "metadata": {},
   "source": [
    "Outlier are just an number in data set that are vastly larger or smaller  than the other values in data set.\n",
    "Mean is only measure of central tendancy that is always affected by an outlier.\n",
    "\n",
    "example: lets say 10 students are there following are scores\n"
   ]
  },
  {
   "cell_type": "code",
   "execution_count": 15,
   "id": "fc877973",
   "metadata": {},
   "outputs": [],
   "source": [
    "score = [0, 88, 90, 92, 94, 95, 95, 96, 97, 99]"
   ]
  },
  {
   "cell_type": "code",
   "execution_count": 16,
   "id": "78baa66a",
   "metadata": {},
   "outputs": [
    {
     "data": {
      "text/plain": [
       "84.6"
      ]
     },
     "execution_count": 16,
     "metadata": {},
     "output_type": "execute_result"
    }
   ],
   "source": [
    "np.mean(score)"
   ]
  },
  {
   "cell_type": "markdown",
   "id": "823adaf5",
   "metadata": {},
   "source": [
    "the mean is 84.6\n",
    "\n",
    "lets remove zero from score data set"
   ]
  },
  {
   "cell_type": "code",
   "execution_count": 17,
   "id": "dd57d012",
   "metadata": {},
   "outputs": [],
   "source": [
    "score = [88, 90, 92, 94, 95, 95, 96, 97, 99]"
   ]
  },
  {
   "cell_type": "code",
   "execution_count": 18,
   "id": "5e2e0cb5",
   "metadata": {},
   "outputs": [
    {
     "data": {
      "text/plain": [
       "94.0"
      ]
     },
     "execution_count": 18,
     "metadata": {},
     "output_type": "execute_result"
    }
   ],
   "source": [
    "np.mean(score)"
   ]
  },
  {
   "cell_type": "markdown",
   "id": "ad9849b1",
   "metadata": {},
   "source": [
    "Now you can see clearly difference."
   ]
  },
  {
   "cell_type": "code",
   "execution_count": null,
   "id": "fe545abf",
   "metadata": {},
   "outputs": [],
   "source": []
  }
 ],
 "metadata": {
  "kernelspec": {
   "display_name": "Python 3 (ipykernel)",
   "language": "python",
   "name": "python3"
  },
  "language_info": {
   "codemirror_mode": {
    "name": "ipython",
    "version": 3
   },
   "file_extension": ".py",
   "mimetype": "text/x-python",
   "name": "python",
   "nbconvert_exporter": "python",
   "pygments_lexer": "ipython3",
   "version": "3.11.2"
  }
 },
 "nbformat": 4,
 "nbformat_minor": 5
}

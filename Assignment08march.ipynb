{
 "cells": [
  {
   "cell_type": "markdown",
   "id": "de8ad595",
   "metadata": {},
   "source": [
    "#### Q1. What is the Probability density function?"
   ]
  },
  {
   "cell_type": "markdown",
   "id": "23dad6c5",
   "metadata": {},
   "source": [
    "Probability density function representing the density of continous random  variable."
   ]
  },
  {
   "cell_type": "markdown",
   "id": "4fa8fe92",
   "metadata": {},
   "source": [
    "#### Q2. What are the types of Probability distribution?"
   ]
  },
  {
   "cell_type": "markdown",
   "id": "a80cc168",
   "metadata": {},
   "source": [
    "There are many types of probability distribution:\n",
    "1. Normal or gaussian distribution:\n",
    "    \n",
    "    it says that probability of distributions that is symmetric about the mean.\n",
    "    \n",
    "2. Bernoulli distributions:\n",
    "    \n",
    "    A random experiment with two outcomes that is success or failure. and it gives outcome in binary form.\n",
    "\n",
    "3. Binomial distribution:\n",
    "    \n",
    "   Number of success in fixed number of independent trails, where each trials has fixed probablity of success.  \n",
    "\n",
    "4. Poisson distribution:\n",
    "\n",
    "    A Poisson distribution is a discrete probability distribution. It gives the probability of an event happening a certain number of times within a given interval of time \n",
    "    \n",
    "5. Uniform distribution:\n",
    "\n",
    "    a. Continous uniform distribution- Outcomes whitin the certain bound.\n",
    "\n",
    "    b. Discrete uniform distribution- Equal probability for all values."
   ]
  },
  {
   "cell_type": "markdown",
   "id": "f0f2ec1f",
   "metadata": {},
   "source": [
    "#### Q3. Write a Python function to calculate the probability density function of a normal distribution with given mean and standard deviation at a given point."
   ]
  },
  {
   "cell_type": "code",
   "execution_count": 19,
   "id": "1f01c56d",
   "metadata": {},
   "outputs": [],
   "source": [
    "from scipy.stats import norm"
   ]
  },
  {
   "cell_type": "code",
   "execution_count": 23,
   "id": "11d4cae9",
   "metadata": {},
   "outputs": [],
   "source": [
    "def pdf(mean,std,given_pnt):\n",
    "    return norm.pdf(given_pnt,mean,std_dev)"
   ]
  },
  {
   "cell_type": "code",
   "execution_count": 24,
   "id": "c371b70c",
   "metadata": {},
   "outputs": [
    {
     "name": "stdout",
     "output_type": "stream",
     "text": [
      "0.12951759566589174\n"
     ]
    }
   ],
   "source": [
    "mean = 0\n",
    "std = 1\n",
    "x = 1.5\n",
    "pdf = pdf(mean, std_dev, x)\n",
    "print(pdf)  # 0.12951759566589174"
   ]
  },
  {
   "cell_type": "markdown",
   "id": "cac22939",
   "metadata": {},
   "source": [
    "#### Q4. What are the properties of Binomial distribution? Give two examples of events where binomial distribution can be applied."
   ]
  },
  {
   "cell_type": "markdown",
   "id": "b1ebd752",
   "metadata": {},
   "source": [
    "The properties of binomial distribution are:\n",
    "\n",
    "There are two possible of outcomes that is success or failuer, true or false, yes or no.\n",
    "\n",
    "There are n number of indepedent trials of fixed number of n times repeated trials."
   ]
  },
  {
   "cell_type": "markdown",
   "id": "e71634e4",
   "metadata": {},
   "source": [
    "Example:\n",
    "\n",
    "Tossing coins for 20 times how number of times head occurs.\n",
    "\n",
    "Asking 50 students if they like to watch movie."
   ]
  },
  {
   "cell_type": "markdown",
   "id": "b1f4862e",
   "metadata": {},
   "source": [
    "The binomial distribution is used when there are exactly two mutually exclusive outcomes of a trial."
   ]
  },
  {
   "cell_type": "markdown",
   "id": "00f071c9",
   "metadata": {},
   "source": [
    "#### Q5. Generate a random sample of size 1000 from a binomial distribution with probability of success 0.4 and plot a histogram of the results using matplotlib."
   ]
  },
  {
   "cell_type": "code",
   "execution_count": 27,
   "id": "505f0492",
   "metadata": {},
   "outputs": [],
   "source": [
    "from numpy import random"
   ]
  },
  {
   "cell_type": "code",
   "execution_count": 33,
   "id": "044734ec",
   "metadata": {},
   "outputs": [],
   "source": [
    "x = random.binomial(n=10,p=0.4,size=1000)"
   ]
  },
  {
   "cell_type": "code",
   "execution_count": 34,
   "id": "c7647b78",
   "metadata": {},
   "outputs": [],
   "source": [
    "import matplotlib.pyplot as plt"
   ]
  },
  {
   "cell_type": "code",
   "execution_count": 35,
   "id": "9e683c46",
   "metadata": {},
   "outputs": [
    {
     "data": {
      "image/png": "[encoded data removed]",
      "text/plain": [
       "<Figure size 640x480 with 1 Axes>"
      ]
     },
     "metadata": {},
     "output_type": "display_data"
    }
   ],
   "source": [
    "plt.hist(x)\n",
    "plt.show()"
   ]
  },
  {
   "cell_type": "markdown",
   "id": "88de4c5b",
   "metadata": {},
   "source": [
    "#### Q6. Write a Python function to calculate the cumulative distribution function of a Poisson distribution with given mean at a given point."
   ]
  },
  {
   "cell_type": "code",
   "execution_count": 36,
   "id": "7b5416ae",
   "metadata": {},
   "outputs": [],
   "source": [
    "from scipy.stats import poisson"
   ]
  },
  {
   "cell_type": "code",
   "execution_count": 37,
   "id": "f6b62e07",
   "metadata": {},
   "outputs": [],
   "source": [
    "def cdf(mean,x):\n",
    "    return poisson.cdf(x,mean)"
   ]
  },
  {
   "cell_type": "code",
   "execution_count": 38,
   "id": "95779870",
   "metadata": {},
   "outputs": [
    {
     "data": {
      "text/plain": [
       "0.9196986029286058"
      ]
     },
     "execution_count": 38,
     "metadata": {},
     "output_type": "execute_result"
    }
   ],
   "source": [
    "cdf(1,2.3)"
   ]
  },
  {
   "cell_type": "markdown",
   "id": "097b256b",
   "metadata": {},
   "source": [
    "#### Q7. How Binomial distribution different from Poisson distribution?"
   ]
  },
  {
   "cell_type": "markdown",
   "id": "9aa3b043",
   "metadata": {},
   "source": [
    "Binomial distribution describes the distribution of binary data from finite sample.\n",
    "Poisson distribution describes the distribution of binary data from infinite sample."
   ]
  },
  {
   "cell_type": "markdown",
   "id": "d882e17b",
   "metadata": {},
   "source": [
    "#### Q8. Generate a random sample of size 1000 from a Poisson distribution with mean 5 and calculate the sample mean and variance."
   ]
  },
  {
   "cell_type": "code",
   "execution_count": 55,
   "id": "b88482c5",
   "metadata": {},
   "outputs": [],
   "source": [
    "import numpy as np"
   ]
  },
  {
   "cell_type": "code",
   "execution_count": 56,
   "id": "b6be2aea",
   "metadata": {},
   "outputs": [],
   "source": [
    "np.random.seed(42)"
   ]
  },
  {
   "cell_type": "code",
   "execution_count": 57,
   "id": "c5779020",
   "metadata": {},
   "outputs": [],
   "source": [
    "sample = np.random.poisson(5,size=1000)"
   ]
  },
  {
   "cell_type": "code",
   "execution_count": 58,
   "id": "5dd74b23",
   "metadata": {},
   "outputs": [],
   "source": [
    "mean = np.mean(sample)"
   ]
  },
  {
   "cell_type": "code",
   "execution_count": 59,
   "id": "8e806815",
   "metadata": {},
   "outputs": [
    {
     "data": {
      "text/plain": [
       "4.985"
      ]
     },
     "execution_count": 59,
     "metadata": {},
     "output_type": "execute_result"
    }
   ],
   "source": [
    "mean"
   ]
  },
  {
   "cell_type": "code",
   "execution_count": 60,
   "id": "f5bb2622",
   "metadata": {},
   "outputs": [],
   "source": [
    "variance = np.var(sample)"
   ]
  },
  {
   "cell_type": "code",
   "execution_count": 61,
   "id": "aa5b3455",
   "metadata": {},
   "outputs": [
    {
     "data": {
      "text/plain": [
       "4.9967749999999995"
      ]
     },
     "execution_count": 61,
     "metadata": {},
     "output_type": "execute_result"
    }
   ],
   "source": [
    "variance"
   ]
  },
  {
   "cell_type": "markdown",
   "id": "74cc4365",
   "metadata": {},
   "source": [
    "#### Q9. How mean and variance are related in Binomial distribution and Poisson distribution?"
   ]
  },
  {
   "cell_type": "markdown",
   "id": "912b9b05",
   "metadata": {},
   "source": [
    "The mean of binomial distribution is always p and variance is npq.\n",
    "mean and variance of poisson distribution are same."
   ]
  },
  {
   "cell_type": "markdown",
   "id": "7f221253",
   "metadata": {},
   "source": [
    "#### Q10. In normal distribution with respect to mean position, where does the least frequent data appear?"
   ]
  },
  {
   "cell_type": "markdown",
   "id": "2afeb404",
   "metadata": {},
   "source": [
    "Appears at tails of distributions."
   ]
  }
 ],
 "metadata": {
  "kernelspec": {
   "display_name": "Python 3 (ipykernel)",
   "language": "python",
   "name": "python3"
  },
  "language_info": {
   "codemirror_mode": {
    "name": "ipython",
    "version": 3
   },
   "file_extension": ".py",
   "mimetype": "text/x-python",
   "name": "python",
   "nbconvert_exporter": "python",
   "pygments_lexer": "ipython3",
   "version": "3.11.2"
  }
 },
 "nbformat": 4,
 "nbformat_minor": 5
}

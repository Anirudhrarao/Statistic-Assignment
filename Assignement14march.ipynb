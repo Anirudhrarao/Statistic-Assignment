{
 "cells": [
  {
   "cell_type": "markdown",
   "id": "c2d84c9b",
   "metadata": {},
   "source": [
    "#### Q1. Write a Python function that takes in two arrays of data and calculates the F-value for a variance ratio test. The function should return the F-value and the corresponding p-value for the test."
   ]
  },
  {
   "cell_type": "code",
   "execution_count": 4,
   "id": "700f7743",
   "metadata": {},
   "outputs": [],
   "source": [
    "import numpy as np\n",
    "import scipy.stats as stat"
   ]
  },
  {
   "cell_type": "code",
   "execution_count": 10,
   "id": "63288a0a",
   "metadata": {},
   "outputs": [],
   "source": [
    "worker1= [18, 19, 22, 25, 27, 28, 41, 45, 51, 55]\n",
    "worker2= [14, 15, 15, 17, 18, 22, 25, 25, 27, 34]"
   ]
  },
  {
   "cell_type": "code",
   "execution_count": 11,
   "id": "647004dc",
   "metadata": {},
   "outputs": [],
   "source": [
    "x = np.array(worker1)\n",
    "y = np.array(worker2)"
   ]
  },
  {
   "cell_type": "code",
   "execution_count": 12,
   "id": "296e7b9b",
   "metadata": {},
   "outputs": [
    {
     "data": {
      "text/plain": [
       "(4.387122002085506, 0.01912653593238578)"
      ]
     },
     "execution_count": 12,
     "metadata": {},
     "output_type": "execute_result"
    }
   ],
   "source": [
    "def f_and_p(x,y):\n",
    "    f = np.var(x)/np.var(y)\n",
    "    x = len(x) - 1\n",
    "    y = len(y) - 1\n",
    "    p_value = 1-stat.f.cdf(f,x,y)\n",
    "    return f, p_value\n",
    "f_and_p(x,y)"
   ]
  },
  {
   "cell_type": "markdown",
   "id": "2878938e",
   "metadata": {},
   "source": [
    "#### Q2. Given a significance level of 0.05 and the degrees of freedom for the numerator and denominator of an F-distribution, write a Python function that returns the critical F-value for a two-tailed test."
   ]
  },
  {
   "cell_type": "code",
   "execution_count": 14,
   "id": "35f37315",
   "metadata": {},
   "outputs": [
    {
     "data": {
      "text/plain": [
       "2.009575234489209"
      ]
     },
     "execution_count": 14,
     "metadata": {},
     "output_type": "execute_result"
    }
   ],
   "source": [
    "significance_level = 0.05\n",
    "stat.t.ppf(q=1-.05/2,df=49)"
   ]
  },
  {
   "cell_type": "markdown",
   "id": "3a2e375e",
   "metadata": {},
   "source": [
    "#### Q3. Write a Python program that generates random samples from two normal distributions with known variances and uses an F-test to determine if the variances are equal. The program should output the F-value, degrees of freedom, and p-value for the test."
   ]
  },
  {
   "cell_type": "code",
   "execution_count": 15,
   "id": "7483abbc",
   "metadata": {},
   "outputs": [],
   "source": [
    "import numpy as np\n",
    "from scipy.stats import f"
   ]
  },
  {
   "cell_type": "code",
   "execution_count": 16,
   "id": "fc2ee7e2",
   "metadata": {},
   "outputs": [],
   "source": [
    "np.random.seed(42)"
   ]
  },
  {
   "cell_type": "code",
   "execution_count": 17,
   "id": "f2cf867c",
   "metadata": {},
   "outputs": [],
   "source": [
    "sample1 = np.random.normal(loc=0,scale=1,size=100)\n",
    "sample2 = np.random.normal(loc=0,scale=1.5,size=100)"
   ]
  },
  {
   "cell_type": "code",
   "execution_count": 19,
   "id": "0b2a8ef5",
   "metadata": {},
   "outputs": [],
   "source": [
    "# Calculate variance\n",
    "var1 = np.var(sample1,ddof=1)\n",
    "var2 = np.var(sample2,ddof=1)"
   ]
  },
  {
   "cell_type": "code",
   "execution_count": 22,
   "id": "c89c31ff",
   "metadata": {},
   "outputs": [],
   "source": [
    "F_test = var1/var2"
   ]
  },
  {
   "cell_type": "code",
   "execution_count": 24,
   "id": "c1226d8b",
   "metadata": {},
   "outputs": [],
   "source": [
    "df1 = len(sample1) - 1\n",
    "df2 = len(sample2) - 2\n",
    "df = df1  +  df2"
   ]
  },
  {
   "cell_type": "code",
   "execution_count": 25,
   "id": "a377e9c4",
   "metadata": {},
   "outputs": [],
   "source": [
    "p_value = f.cdf(F_test,df1,df2)"
   ]
  },
  {
   "cell_type": "code",
   "execution_count": 30,
   "id": "683587c2",
   "metadata": {},
   "outputs": [
    {
     "name": "stdout",
     "output_type": "stream",
     "text": [
      "The F-value : 0.4030463392763856\n",
      "The Degree of freedom : 197\n",
      "The P-value : 4.763749192132536e-06\n"
     ]
    }
   ],
   "source": [
    "print(\"The F-value :\",F_test)\n",
    "print(\"The Degree of freedom :\",df)\n",
    "print(\"The P-value :\",p_value)"
   ]
  },
  {
   "cell_type": "markdown",
   "id": "df36950b",
   "metadata": {},
   "source": [
    "#### Q4.The variances of two populations are known to be 10 and 15. A sample of 12 observations is taken from each population. Conduct an F-test at the 5% significance level to determine if the variances are significantly different."
   ]
  },
  {
   "cell_type": "markdown",
   "id": "b6c9377b",
   "metadata": {},
   "source": [
    "H0:- There is no significance difference between variance.\n",
    "\n",
    "H1:- There is significance difference between variance.\n",
    "\n",
    "S1^2 = 10,  S2^2 = 15\n",
    "\n",
    "F-test = 10/15 = 0.66\n",
    "\n",
    "Now find critical values using f-table\n",
    "\n",
    "degree of freedom = 12 - 1 = 11 and alpha = 0.05 \n",
    "\n",
    "so critical value for  dof = 11 and alpha = 0.05 is 2.817\n",
    "\n",
    "F-value is less than critcal value so we failed reject the H0"
   ]
  },
  {
   "cell_type": "markdown",
   "id": "bef7a397",
   "metadata": {},
   "source": [
    "#### Q5. A manufacturer claims that the variance of the diameter of a certain product is 0.005. A sample of 25 products is taken, and the sample variance is found to be 0.006. Conduct an F-test at the 1% significance level to determine if the claim is justified."
   ]
  },
  {
   "cell_type": "markdown",
   "id": "9af7b938",
   "metadata": {},
   "source": [
    "H0:- Claim is justified for varince \n",
    "\n",
    "H1:- Claims is not justified\n",
    "\n",
    "S1^2 = 0.005,  S2^2 = 0.006\n",
    "\n",
    "F-test = 0.005/0.006 = 0.833\n",
    "\n",
    "Now find critical values using f-table\n",
    "\n",
    "degree of freedom = 25 - 1 = 24 and alpha = 0.01 \n",
    "\n",
    "so critical value for  dof = 24 and alpha = 0.01 is 2.659\n",
    "\n",
    "F-value is less than critcal value so we failed reject the H0"
   ]
  },
  {
   "cell_type": "markdown",
   "id": "a908e6ce",
   "metadata": {},
   "source": [
    "#### Q6. Write a Python function that takes in the degrees of freedom for the numerator and denominator of an F-distribution and calculates the mean and variance of the distribution. The function should return the mean and variance as a tuple."
   ]
  },
  {
   "cell_type": "code",
   "execution_count": 1,
   "id": "0471a079",
   "metadata": {},
   "outputs": [],
   "source": [
    "def mean_variance(df1,df2):\n",
    "    mean = df1/(df2-2.0)\n",
    "    variance = (2 * df2 ** 2 * (df1+df2-2))/(df1 * (df2 - 2) ** 2 * (df2-4))\n",
    "    return mean, variance"
   ]
  },
  {
   "cell_type": "code",
   "execution_count": 3,
   "id": "f1288c5f",
   "metadata": {},
   "outputs": [
    {
     "data": {
      "text/plain": [
       "(1.2222222222222223, 0.7760141093474426)"
      ]
     },
     "execution_count": 3,
     "metadata": {},
     "output_type": "execute_result"
    }
   ],
   "source": [
    "mean_variance(11,11)"
   ]
  },
  {
   "cell_type": "markdown",
   "id": "a1736598",
   "metadata": {},
   "source": [
    "#### Q7. A random sample of 10 measurements is taken from a normal population with unknown variance. The sample variance is found to be 25. Another random sample of 15 measurements is taken from another normal population with unknown variance, and the sample variance is found to be 20. Conduct an F-test at the 10% significance level to determine if the variances are significantly different."
   ]
  },
  {
   "cell_type": "markdown",
   "id": "971bbe09",
   "metadata": {},
   "source": [
    "H0:- Variance are significantly different\n",
    "\n",
    "H1:- Variance are not significantly different\n",
    "\n",
    "S1^2 = 25,  S2^2 = 20\n",
    "\n",
    "F-test = 25/20 = 1.25\n",
    "\n",
    "Now find critical values using f-table\n",
    "\n",
    "degree of freedom = 10 - 1 = 9, 15 - 1 = 14 and alpha = 0.1 \n",
    "\n",
    "so critical value for  dof = (9,14) and alpha = 0.1 is 2.1219\n",
    "\n",
    "F-value is less than critcal value so we failed to reject the H0 which means varicance are significantly difference."
   ]
  },
  {
   "cell_type": "markdown",
   "id": "d4360c61",
   "metadata": {},
   "source": [
    "#### Q8. The following data represent the waiting times in minutes at two different restaurants on a Saturday night: Restaurant A: 24, 25, 28, 23, 22, 20, 27; Restaurant B: 31, 33, 35, 30, 32, 36. Conduct an F-test at the 5% significance level to determine if the variances are significantly different."
   ]
  },
  {
   "cell_type": "markdown",
   "id": "e6e5c476",
   "metadata": {},
   "source": [
    "H0 : The variance of waiting time of both A and B restaurant are equal.\n",
    "\n",
    "H1 : The variance of waiting time of both A and B restaurant are different.\n",
    "\n",
    "S1^2 = 8.33, S2^2 = 5.6\n",
    "\n",
    "F-test = 8.33/5.6 = 1.487\n",
    "\n",
    "Now find critical values using f-table\n",
    "\n",
    "degree of freedom = 7 - 1 = 6, 6 - 1 = 5 and alpha = 0.05\n",
    "\n",
    "so critical value for dof = (6,5) and alpha = 0.05 is 4.03\n",
    "\n",
    "F-value is lesst than critical value so we failed to reject null hypothesis\n",
    "Since wating time variance for both are equal.\n"
   ]
  },
  {
   "cell_type": "markdown",
   "id": "88b5a202",
   "metadata": {},
   "source": [
    "#### Q9. The following data represent the test scores of two groups of students: Group A: 80, 85, 90, 92, 87, 83; Group B: 75, 78, 82, 79, 81, 84. Conduct an F-test at the 1% significance level to determine if the variances are significantly different."
   ]
  },
  {
   "cell_type": "markdown",
   "id": "fc57106a",
   "metadata": {},
   "source": [
    "H0 : The variance of test score are same for both group A and B.\n",
    "\n",
    "H1 : The variance of test score are not same for both group A and B.\n",
    "\n",
    "S1^2 = 23.2, S2^2 = 8.8\n",
    "\n",
    "F-test = 23.2/8.8 = 2.636\n",
    "\n",
    "Now find critical values using f-table\n",
    "\n",
    "degree of freedom = 6 - 1 = 5, 6 - 1 = 5 and alpha = 0.01\n",
    "\n",
    "so critical value for dof = (6,5) and alpha = 0.05 is 7.39\n",
    "\n",
    "F-value is less than critical value so we failed to reject the null hypothesis.\n",
    "\n",
    "Since test-score for both A and group B are same."
   ]
  }
 ],
 "metadata": {
  "kernelspec": {
   "display_name": "Python 3 (ipykernel)",
   "language": "python",
   "name": "python3"
  },
  "language_info": {
   "codemirror_mode": {
    "name": "ipython",
    "version": 3
   },
   "file_extension": ".py",
   "mimetype": "text/x-python",
   "name": "python",
   "nbconvert_exporter": "python",
   "pygments_lexer": "ipython3",
   "version": "3.11.2"
  }
 },
 "nbformat": 4,
 "nbformat_minor": 5
}

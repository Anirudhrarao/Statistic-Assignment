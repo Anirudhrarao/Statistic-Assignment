{
 "cells": [
  {
   "cell_type": "markdown",
   "id": "874d4ba4",
   "metadata": {},
   "source": [
    "#### Q1. Calculate the 95% confidence interval for a sample of data with a mean of 50 and a standard deviation of 5 using Python. Interpret the results."
   ]
  },
  {
   "cell_type": "code",
   "execution_count": 6,
   "id": "00433134",
   "metadata": {},
   "outputs": [
    {
     "name": "stdout",
     "output_type": "stream",
     "text": [
      "Population mean lies between 49.96 and 50.04 for confidence interval of 95%\n"
     ]
    }
   ],
   "source": [
    "from scipy import stats\n",
    "\n",
    "mean = 50\n",
    "std_dev = 5\n",
    "n = 50 # assuming sample size of 50\n",
    "# Confidence interval 0.95 = 1 - 0.95 = 0.05 = alpha\n",
    "lower, upper = stats.norm.interval(0.05,loc=mean,scale=std_dev/(n ** 0.5))\n",
    "\n",
    "print(f'Population mean lies between {lower:.2f} and {upper:.2f} for confidence interval of 95%')\n",
    "        "
   ]
  },
  {
   "cell_type": "markdown",
   "id": "badb3a8e",
   "metadata": {},
   "source": [
    "#### Q2. Conduct a chi-square goodness of fit test to determine if the distribution of colors of M&Ms in a bag matches the expected distribution of 20% blue, 20% orange, 20% green, 10% yellow, 10% red, and 20% brown. Use Python to perform the test with a significance level of 0.05."
   ]
  },
  {
   "cell_type": "markdown",
   "id": "60fd465b",
   "metadata": {},
   "source": [
    "H0:- The distribution of colors of M&Ms in a bag matches the expected distribution.\n",
    "\n",
    "H1:- The distribution of colors od M&Ms in a bag does not matches the expected distribution."
   ]
  },
  {
   "cell_type": "code",
   "execution_count": 7,
   "id": "3c799d66",
   "metadata": {},
   "outputs": [],
   "source": [
    "import numpy as np\n",
    "from scipy.stats import chisquare"
   ]
  },
  {
   "cell_type": "code",
   "execution_count": 8,
   "id": "5c75c793",
   "metadata": {},
   "outputs": [],
   "source": [
    "# Let's assum the observed frequencies\n",
    "observed = np.array([20,10,5,9,12,15])"
   ]
  },
  {
   "cell_type": "code",
   "execution_count": 9,
   "id": "98c35184",
   "metadata": {},
   "outputs": [],
   "source": [
    "expected = np.array([0.2, 0.2, 0.2, 0.1, 0.1, 0.2]) * sum(observed)"
   ]
  },
  {
   "cell_type": "code",
   "execution_count": 10,
   "id": "88b77540",
   "metadata": {},
   "outputs": [],
   "source": [
    "chi2, p_val = chisquare(observed,expected)"
   ]
  },
  {
   "cell_type": "code",
   "execution_count": 12,
   "id": "167cb538",
   "metadata": {},
   "outputs": [
    {
     "name": "stdout",
     "output_type": "stream",
     "text": [
      "The chi-square test statistic: 13.51 and p-values is 0.02\n"
     ]
    }
   ],
   "source": [
    "print(f'The chi-square test statistic: {chi2:.2f} and p-values is {p_val:.2f}')"
   ]
  },
  {
   "cell_type": "code",
   "execution_count": 13,
   "id": "a120e635",
   "metadata": {},
   "outputs": [
    {
     "name": "stdout",
     "output_type": "stream",
     "text": [
      "We reject the null hypothesis\n"
     ]
    }
   ],
   "source": [
    "if p_val < 0.05:\n",
    "    print('We reject the null hypothesis')\n",
    "else:\n",
    "    print('We failed to reject the null hypothesis')"
   ]
  },
  {
   "attachments": {
    "Screenshot%202023-03-16%20125456.png": {
     "image/png": "[encoded data removed]"
    }
   },
   "cell_type": "markdown",
   "id": "a771866a",
   "metadata": {},
   "source": [
    "#### Q3. Use Python to calculate the chi-square statistic and p-value for a contingency table with the following data: \n",
    "![Screenshot%202023-03-16%20125456.png](attachment:Screenshot%202023-03-16%20125456.png)"
   ]
  },
  {
   "cell_type": "markdown",
   "id": "ce0c7d3c",
   "metadata": {},
   "source": [
    "H0:- Outcomes are independent of the group\n",
    "\n",
    "H1:- Outcomes are dependent on the group"
   ]
  },
  {
   "cell_type": "code",
   "execution_count": 14,
   "id": "5506a012",
   "metadata": {},
   "outputs": [],
   "source": [
    "import pandas as pd\n",
    "from scipy.stats import chi2_contingency"
   ]
  },
  {
   "cell_type": "code",
   "execution_count": 20,
   "id": "91f75456",
   "metadata": {},
   "outputs": [],
   "source": [
    "observed = pd.DataFrame({\n",
    "    'Group A': [20,10,15],\n",
    "    'Group B': [15,25,20]\n",
    "},index=['Outcome1','Outcome2','Outcome3'])\n",
    "alpha = 0.05"
   ]
  },
  {
   "cell_type": "code",
   "execution_count": 21,
   "id": "efda50d5",
   "metadata": {},
   "outputs": [
    {
     "data": {
      "text/html": [
       "<div>\n",
       "<style scoped>\n",
       "    .dataframe tbody tr th:only-of-type {\n",
       "        vertical-align: middle;\n",
       "    }\n",
       "\n",
       "    .dataframe tbody tr th {\n",
       "        vertical-align: top;\n",
       "    }\n",
       "\n",
       "    .dataframe thead th {\n",
       "        text-align: right;\n",
       "    }\n",
       "</style>\n",
       "<table border=\"1\" class=\"dataframe\">\n",
       "  <thead>\n",
       "    <tr style=\"text-align: right;\">\n",
       "      <th></th>\n",
       "      <th>Group A</th>\n",
       "      <th>Group B</th>\n",
       "    </tr>\n",
       "  </thead>\n",
       "  <tbody>\n",
       "    <tr>\n",
       "      <th>Outcome1</th>\n",
       "      <td>20</td>\n",
       "      <td>15</td>\n",
       "    </tr>\n",
       "    <tr>\n",
       "      <th>Outcome2</th>\n",
       "      <td>10</td>\n",
       "      <td>25</td>\n",
       "    </tr>\n",
       "    <tr>\n",
       "      <th>Outcome3</th>\n",
       "      <td>15</td>\n",
       "      <td>20</td>\n",
       "    </tr>\n",
       "  </tbody>\n",
       "</table>\n",
       "</div>"
      ],
      "text/plain": [
       "          Group A  Group B\n",
       "Outcome1       20       15\n",
       "Outcome2       10       25\n",
       "Outcome3       15       20"
      ]
     },
     "execution_count": 21,
     "metadata": {},
     "output_type": "execute_result"
    }
   ],
   "source": [
    "observed"
   ]
  },
  {
   "cell_type": "code",
   "execution_count": 19,
   "id": "9be7dfad",
   "metadata": {},
   "outputs": [],
   "source": [
    "chi2, p_val, dof, expected = chi2_contingency(observed)"
   ]
  },
  {
   "cell_type": "code",
   "execution_count": 24,
   "id": "a7cb09c5",
   "metadata": {},
   "outputs": [
    {
     "name": "stdout",
     "output_type": "stream",
     "text": [
      "Chi-square statstic: 5.83 and p-value is 0.054\n"
     ]
    }
   ],
   "source": [
    "print(f'Chi-square statstic: {chi2:.2f} and p-value is {p_val:.3f}')"
   ]
  },
  {
   "cell_type": "code",
   "execution_count": 26,
   "id": "f80a67d3",
   "metadata": {},
   "outputs": [
    {
     "name": "stdout",
     "output_type": "stream",
     "text": [
      "we failed to reject the null hypothesis.\n"
     ]
    }
   ],
   "source": [
    "if p_val < alpha:\n",
    "    print('We reject the null hypothesis')\n",
    "else:\n",
    "    print('we failed to reject the null hypothesis.')"
   ]
  },
  {
   "cell_type": "markdown",
   "id": "1498725d",
   "metadata": {},
   "source": [
    "#### Q4. A study of the prevalence of smoking in a population of 500 individuals found that 60 individuals smoked. Use Python to calculate the 95% confidence interval for the true proportion of individuals in the population who smoke."
   ]
  },
  {
   "cell_type": "code",
   "execution_count": 1,
   "id": "abf00ecc",
   "metadata": {},
   "outputs": [],
   "source": [
    "import math\n",
    "import scipy.stats as stat"
   ]
  },
  {
   "cell_type": "code",
   "execution_count": 2,
   "id": "2ba36ee9",
   "metadata": {},
   "outputs": [],
   "source": [
    "# sample size\n",
    "n = 500\n",
    "x = 60"
   ]
  },
  {
   "cell_type": "code",
   "execution_count": 3,
   "id": "a47300d2",
   "metadata": {},
   "outputs": [],
   "source": [
    "p = x/n"
   ]
  },
  {
   "cell_type": "code",
   "execution_count": 5,
   "id": "ece77c82",
   "metadata": {},
   "outputs": [
    {
     "name": "stdout",
     "output_type": "stream",
     "text": [
      "proportion of individuals in the population who smoke is 0.12\n"
     ]
    }
   ],
   "source": [
    "print(f'proportion of individuals in the population who smoke is {p}')"
   ]
  },
  {
   "cell_type": "code",
   "execution_count": 13,
   "id": "32798fe4",
   "metadata": {},
   "outputs": [],
   "source": [
    "# let's find z-value for CI of 95%\n",
    "alpha = 1 - 0.95\n",
    "z_value = stat.norm.ppf(1-alpha/2)"
   ]
  },
  {
   "cell_type": "code",
   "execution_count": 15,
   "id": "7db51d79",
   "metadata": {},
   "outputs": [
    {
     "name": "stdout",
     "output_type": "stream",
     "text": [
      "Z-value for CI of 95% is  1.96\n"
     ]
    }
   ],
   "source": [
    "print(f'Z-value for CI of 95% is  {z_value:.2f}')"
   ]
  },
  {
   "cell_type": "code",
   "execution_count": 24,
   "id": "29d65910",
   "metadata": {},
   "outputs": [],
   "source": [
    "# Formula for CI is CI = p ± z*sqrt(p*(1-p)/n)\n",
    "# standard error\n",
    "se = math.sqrt((p*(1-p))/n)"
   ]
  },
  {
   "cell_type": "code",
   "execution_count": 27,
   "id": "abd37e9a",
   "metadata": {},
   "outputs": [
    {
     "name": "stdout",
     "output_type": "stream",
     "text": [
      "The standard error of proportion is 0.01\n"
     ]
    }
   ],
   "source": [
    "print(f'The standard error of proportion is {se:.2f}')"
   ]
  },
  {
   "cell_type": "code",
   "execution_count": 33,
   "id": "94f086b4",
   "metadata": {},
   "outputs": [],
   "source": [
    "lower_chi = (p - z_value * se) * 100\n",
    "upper_chi = (p + z_value * se) * 100"
   ]
  },
  {
   "cell_type": "code",
   "execution_count": 34,
   "id": "179e391e",
   "metadata": {},
   "outputs": [
    {
     "name": "stdout",
     "output_type": "stream",
     "text": [
      "the 95% confidence interval for the true proportion of individuals in the population who smoke is (9.15,14.85)\n"
     ]
    }
   ],
   "source": [
    "print(f\"the 95% confidence interval for the true proportion of individuals in the population who smoke is ({lower_chi:.2f},{upper_chi:.2f})\")"
   ]
  },
  {
   "cell_type": "markdown",
   "id": "6b1fd8a1",
   "metadata": {},
   "source": [
    "#### Q5. Calculate the 90% confidence interval for a sample of data with a mean of 75 and a standard deviation of 12 using Python. Interpret the results."
   ]
  },
  {
   "cell_type": "code",
   "execution_count": 35,
   "id": "8d886df6",
   "metadata": {},
   "outputs": [],
   "source": [
    "import math\n",
    "import scipy.stats as stat"
   ]
  },
  {
   "cell_type": "code",
   "execution_count": 36,
   "id": "7298e098",
   "metadata": {},
   "outputs": [],
   "source": [
    "x = 57\n",
    "s = 12\n",
    "n = 30 #Assuming the sample size is 30"
   ]
  },
  {
   "cell_type": "code",
   "execution_count": 39,
   "id": "6fbed9cc",
   "metadata": {},
   "outputs": [],
   "source": [
    "alpha = 1 - 0.90\n",
    "# degree of freedom\n",
    "df = n-1"
   ]
  },
  {
   "cell_type": "code",
   "execution_count": 40,
   "id": "e9936804",
   "metadata": {},
   "outputs": [],
   "source": [
    "# lets find critical value for CI of 90%\n",
    "t_value = stat.t.ppf(1-alpha/2,df)"
   ]
  },
  {
   "cell_type": "code",
   "execution_count": 44,
   "id": "6a8bcd3c",
   "metadata": {},
   "outputs": [
    {
     "name": "stdout",
     "output_type": "stream",
     "text": [
      "The critical value is 1.699 for CI of 90%\n"
     ]
    }
   ],
   "source": [
    "print(f\"The critical value is {t_value:.3f} for CI of 90%\")"
   ]
  },
  {
   "cell_type": "code",
   "execution_count": 45,
   "id": "cdf0d019",
   "metadata": {},
   "outputs": [],
   "source": [
    "# lets calculate standard error of mean\n",
    "std_mean = s / math.sqrt(n)"
   ]
  },
  {
   "cell_type": "code",
   "execution_count": 47,
   "id": "5b077aa9",
   "metadata": {},
   "outputs": [
    {
     "name": "stdout",
     "output_type": "stream",
     "text": [
      "The standard error of mean is  2.191\n"
     ]
    }
   ],
   "source": [
    "print(f\"The standard error of mean is  {std_mean:.3f}\")"
   ]
  },
  {
   "cell_type": "code",
   "execution_count": 54,
   "id": "2ad1fd8e",
   "metadata": {},
   "outputs": [],
   "source": [
    "# Calculate the CI\n",
    "lower_chi = x - t_value * std_mean\n",
    "upper_chi = x + t_value * std_mean"
   ]
  },
  {
   "cell_type": "code",
   "execution_count": 55,
   "id": "912b1151",
   "metadata": {},
   "outputs": [
    {
     "name": "stdout",
     "output_type": "stream",
     "text": [
      "Population mean lies between (53.2773991980037,60.7226008019963) for CI of 90%\n"
     ]
    }
   ],
   "source": [
    "print(f'Population mean lies between ({lower_chi},{upper_chi}) for CI of 90%')"
   ]
  },
  {
   "cell_type": "markdown",
   "id": "b060f203",
   "metadata": {},
   "source": [
    "#### Q6. Use Python to plot the chi-square distribution with 10 degrees of freedom. Label the axes and shade the area corresponding to a chi-square statistic of 15."
   ]
  },
  {
   "cell_type": "code",
   "execution_count": 61,
   "id": "d5982e55",
   "metadata": {},
   "outputs": [
    {
     "data": {
      "image/png": "[encoded data removed]",
      "text/plain": [
       "<Figure size 800x500 with 1 Axes>"
      ]
     },
     "metadata": {},
     "output_type": "display_data"
    }
   ],
   "source": [
    "import numpy as np\n",
    "import scipy.stats as stats\n",
    "import matplotlib.pyplot as plt\n",
    "\n",
    "# Set degrees of freedom\n",
    "df = 10\n",
    "\n",
    "# Define range of x-values for plotting\n",
    "x = np.linspace(stats.chi2.ppf(0.0001, df), stats.chi2.ppf(0.999, df), 100)\n",
    "\n",
    "# Create plot\n",
    "fig, ax = plt.subplots(figsize=(8, 5))\n",
    "\n",
    "# Plot chi-square distribution\n",
    "ax.plot(x, stats.chi2.pdf(x, df), 'k-', lw=2, label='Chi-square PDF')\n",
    "\n",
    "# Calculating area under curve \n",
    "area = stats.chi2.cdf(15,df)\n",
    "\n",
    "# Shade area under the curve\n",
    "x_fill = np.linspace(stats.chi2.ppf(0.0001, df), 15, 100)\n",
    "ax.fill_between(x_fill, stats.chi2.pdf(x_fill, df), color='blue', alpha=0.5,label = f'Area under shaded region = {area:.4f}')\n",
    "\n",
    "# Add legend and labels\n",
    "ax.legend(loc='best', frameon=False)\n",
    "ax.set_xlabel('X')\n",
    "ax.set_ylabel('PDF(X)')\n",
    "ax.set_title('Chi-square Distribution with 10 Degrees of Freedom')\n",
    "\n",
    "plt.show()"
   ]
  },
  {
   "cell_type": "markdown",
   "id": "f4723a0d",
   "metadata": {},
   "source": [
    "#### Q7. A random sample of 1000 people was asked if they preferred Coke or Pepsi. Of the sample, 520 preferred Coke. Calculate a 99% confidence interval for the true proportion of people in the population who prefer Coke."
   ]
  },
  {
   "cell_type": "code",
   "execution_count": 63,
   "id": "edb13b7c",
   "metadata": {},
   "outputs": [],
   "source": [
    "from scipy.stats import norm\n",
    "import math"
   ]
  },
  {
   "cell_type": "code",
   "execution_count": 65,
   "id": "5ecea0bb",
   "metadata": {},
   "outputs": [],
   "source": [
    "x = 520\n",
    "n = 1000\n",
    "p = x/n"
   ]
  },
  {
   "cell_type": "code",
   "execution_count": 66,
   "id": "b7617a49",
   "metadata": {},
   "outputs": [],
   "source": [
    "z = norm.ppf(0.99)"
   ]
  },
  {
   "cell_type": "code",
   "execution_count": 67,
   "id": "930fa935",
   "metadata": {},
   "outputs": [
    {
     "data": {
      "text/plain": [
       "2.3263478740408408"
      ]
     },
     "execution_count": 67,
     "metadata": {},
     "output_type": "execute_result"
    }
   ],
   "source": [
    "z"
   ]
  },
  {
   "cell_type": "code",
   "execution_count": 68,
   "id": "a3da9356",
   "metadata": {},
   "outputs": [],
   "source": [
    "# standard error\n",
    "se = z*math.sqrt(p*(1-p)/n)"
   ]
  },
  {
   "cell_type": "code",
   "execution_count": 69,
   "id": "87bfdbe1",
   "metadata": {},
   "outputs": [
    {
     "data": {
      "text/plain": [
       "0.03675335154773185"
      ]
     },
     "execution_count": 69,
     "metadata": {},
     "output_type": "execute_result"
    }
   ],
   "source": [
    "se"
   ]
  },
  {
   "cell_type": "code",
   "execution_count": 70,
   "id": "7ddc4d80",
   "metadata": {},
   "outputs": [],
   "source": [
    "lower_chi = p - se"
   ]
  },
  {
   "cell_type": "code",
   "execution_count": 72,
   "id": "4039b2eb",
   "metadata": {},
   "outputs": [
    {
     "data": {
      "text/plain": [
       "48.32466484522682"
      ]
     },
     "execution_count": 72,
     "metadata": {},
     "output_type": "execute_result"
    }
   ],
   "source": [
    "lower_chi * 100"
   ]
  },
  {
   "cell_type": "code",
   "execution_count": 73,
   "id": "a942fd10",
   "metadata": {},
   "outputs": [],
   "source": [
    "upper_chi = p + se"
   ]
  },
  {
   "cell_type": "code",
   "execution_count": 74,
   "id": "80832e38",
   "metadata": {},
   "outputs": [
    {
     "data": {
      "text/plain": [
       "55.67533515477319"
      ]
     },
     "execution_count": 74,
     "metadata": {},
     "output_type": "execute_result"
    }
   ],
   "source": [
    "upper_chi * 100"
   ]
  },
  {
   "cell_type": "markdown",
   "id": "4556aa20",
   "metadata": {},
   "source": [
    "#### Q8. A researcher hypothesizes that a coin is biased towards tails. They flip the coin 100 times and observe 45 tails. Conduct a chi-square goodness of fit test to determine if the observed frequencies match the expected frequencies of a fair coin. Use a significance level of 0.05."
   ]
  },
  {
   "cell_type": "code",
   "execution_count": 75,
   "id": "6911914e",
   "metadata": {},
   "outputs": [
    {
     "name": "stdout",
     "output_type": "stream",
     "text": [
      "Test statistic: 1.0\n",
      "p-value: 0.31731050786291115\n",
      "Fail to reject the null hypothesis\n"
     ]
    }
   ],
   "source": [
    "import numpy as np\n",
    "from scipy.stats import chisquare\n",
    "\n",
    "# Define the observed frequencies\n",
    "observed_freq = np.array([55, 45])  # heads, tails\n",
    "\n",
    "# Define the expected frequencies under the null hypothesis\n",
    "expected_freq = np.array([50, 50])  # heads, tails\n",
    "\n",
    "# Calculate the test statistic and p-value\n",
    "test_statistic, p_value = chisquare(observed_freq, f_exp=expected_freq)\n",
    "\n",
    "# Print the results\n",
    "print(\"Test statistic:\", test_statistic)\n",
    "print(\"p-value:\", p_value)\n",
    "\n",
    "# Compare the p-value to the significance level\n",
    "alpha = 0.05\n",
    "if p_value <= alpha:\n",
    "    print(\"Reject the null hypothesis\")\n",
    "else:\n",
    "    print(\"Fail to reject the null hypothesis\")\n"
   ]
  },
  {
   "cell_type": "code",
   "execution_count": null,
   "id": "244717b7",
   "metadata": {},
   "outputs": [],
   "source": []
  }
 ],
 "metadata": {
  "kernelspec": {
   "display_name": "Python 3 (ipykernel)",
   "language": "python",
   "name": "python3"
  },
  "language_info": {
   "codemirror_mode": {
    "name": "ipython",
    "version": 3
   },
   "file_extension": ".py",
   "mimetype": "text/x-python",
   "name": "python",
   "nbconvert_exporter": "python",
   "pygments_lexer": "ipython3",
   "version": "3.11.2"
  }
 },
 "nbformat": 4,
 "nbformat_minor": 5
}

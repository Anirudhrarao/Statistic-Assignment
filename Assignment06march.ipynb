{
 "cells": [
  {
   "cell_type": "markdown",
   "id": "bac9ef82",
   "metadata": {},
   "source": [
    "#### Q1. What is Statistics?"
   ]
  },
  {
   "cell_type": "markdown",
   "id": "50d290ee",
   "metadata": {},
   "source": [
    "Statistic is science of collecting , oraganizing , and analysing the data."
   ]
  },
  {
   "cell_type": "markdown",
   "id": "a2b0ec40",
   "metadata": {},
   "source": [
    "#### Q2. Define the different types of statistics and give an example of when each type might be used."
   ]
  },
  {
   "cell_type": "markdown",
   "id": "78223512",
   "metadata": {},
   "source": [
    "We have two type of statistics descriptive and inferential statistics.\n",
    "desciptive statistic is simple technique to describe, show and summarize the data in meaningful way.\n",
    "inferential stastic is focus on making prediction and focus to explain probability of occurence of event.\n",
    "descriptive is used when you want basic information about data or used to summarize the data.\n",
    "inferential is used to generalize the result from the sample to the population."
   ]
  },
  {
   "cell_type": "markdown",
   "id": "159af0d6",
   "metadata": {},
   "source": [
    "#### Q3. What are the different types of data and how do they differ from each other? Provide an example of each type of data."
   ]
  },
  {
   "cell_type": "markdown",
   "id": "46db0114",
   "metadata": {},
   "source": [
    "We have two types of data that is quantitative and qualitative data. in quantitative we have two sub types that is discrete and continous data. \n",
    "and in qualitative we have two sub types that is nominal and ordinal data.\n",
    "we can perform mathematical operations on numerical data or quantitative data but not possible on categorical data or quanlitative data.\n",
    "Examples:\n",
    "1. Discrete data:\n",
    "    * Number of student in class.\n",
    "2. Continous data:\n",
    "    * height, weight, speed, and length.\n",
    "3. Nominal data:\n",
    "    * blood groups, colors, gender and subjects.\n",
    "4. Ordinal data:\n",
    "    * grades."
   ]
  },
  {
   "cell_type": "markdown",
   "id": "c1bb8070",
   "metadata": {},
   "source": [
    "#### Q4. Categorise the following datasets with respect to quantitative and qualitative data types:"
   ]
  },
  {
   "cell_type": "markdown",
   "id": "8e9b36a1",
   "metadata": {},
   "source": [
    "(i) Grading in exam: A+, A, B+, B, C+, C, D, E\n",
    "Answer: Qualitative data (nominal data)\n",
    "\n",
    "(ii) Colour of mangoes: yellow, green, orange, red\n",
    "Answer: Qualitative data (nominal data)\n",
    "\n",
    "(iii) Height data of a class: [178.9, 179, 179.5, 176, 177.2, 178.3, 175.8,...]\n",
    "Answer: Quantitative data (continous data)\n",
    "\n",
    "(iv) Number of mangoes exported by a farm: [500, 600, 478, 672, ...]\n",
    "Answer: Quantitative data (discrete data)"
   ]
  },
  {
   "cell_type": "markdown",
   "id": "6c198d68",
   "metadata": {},
   "source": [
    "#### Q5. Explain the concept of levels of measurement and give an example of a variable for each level."
   ]
  },
  {
   "cell_type": "markdown",
   "id": "349e68f3",
   "metadata": {},
   "source": [
    "There are four types of level of measurements:\n",
    "1. Nominal:\n",
    "    The data can only be categorized.\n",
    "2. Ordinal:\n",
    "     The data can be categorized and ranked.\n",
    "3. Interval\n",
    "     The data can be categorized, ranked and evenly spaced   \n",
    "4. Ratio\n",
    "    The data can be categorized, ranked, evenly spaced, and has a natural zero"
   ]
  },
  {
   "cell_type": "markdown",
   "id": "c54663bc",
   "metadata": {},
   "source": [
    "#### Q6. Why is it important to understand the level of measurement when analyzing data? Provide an example to illustrate your answer."
   ]
  },
  {
   "cell_type": "markdown",
   "id": "287a1aa2",
   "metadata": {},
   "source": [
    "Because the level of measurement determines the type of statistical analysis so that we can efficiently plan for research and present thier findings."
   ]
  },
  {
   "cell_type": "markdown",
   "id": "864346b6",
   "metadata": {},
   "source": [
    "#### Q7. How nominal data type is different from ordinal data type."
   ]
  },
  {
   "cell_type": "markdown",
   "id": "ea678ad7",
   "metadata": {},
   "source": [
    "Nominal data does not requires the ranking and order whereas ordinal data has predetermined or natural order."
   ]
  },
  {
   "cell_type": "markdown",
   "id": "4e905b73",
   "metadata": {},
   "source": [
    "#### Q8. Which type of plot can be used to display data in terms of range?"
   ]
  },
  {
   "cell_type": "markdown",
   "id": "88f64b13",
   "metadata": {},
   "source": [
    "Histogram is used to display data in terms of range."
   ]
  },
  {
   "cell_type": "markdown",
   "id": "4450b38d",
   "metadata": {},
   "source": [
    "#### Q9. Describe the difference between descriptive and inferential statistics. Give an example of each type of statistics and explain how they are used."
   ]
  },
  {
   "cell_type": "markdown",
   "id": "a2015d88",
   "metadata": {},
   "source": [
    "Descriptive statistics explains already known data related to a particular sample or population of a small size.\n",
    "\n",
    "example: Measure of central tendancy.\n",
    "\n",
    "Inferential statistics, however, aims to draw inferences or conclusions about a whole population.\n",
    "\n",
    "example: Hypothesis testing."
   ]
  },
  {
   "cell_type": "markdown",
   "id": "6ca12946",
   "metadata": {},
   "source": [
    "#### Q10. What are some common measures of central tendency and variability used in statistics? Explain how each measure can be used to describe a dataset."
   ]
  },
  {
   "cell_type": "markdown",
   "id": "751ddf94",
   "metadata": {},
   "source": [
    "1. Mean"
   ]
  },
  {
   "cell_type": "code",
   "execution_count": 4,
   "id": "2aafd82a",
   "metadata": {},
   "outputs": [],
   "source": [
    "data = [1,2,3,4,5]"
   ]
  },
  {
   "cell_type": "code",
   "execution_count": 5,
   "id": "5b95cb88",
   "metadata": {},
   "outputs": [],
   "source": [
    "import numpy as np"
   ]
  },
  {
   "cell_type": "code",
   "execution_count": 6,
   "id": "cbacfd66",
   "metadata": {},
   "outputs": [
    {
     "data": {
      "text/plain": [
       "3.0"
      ]
     },
     "execution_count": 6,
     "metadata": {},
     "output_type": "execute_result"
    }
   ],
   "source": [
    "np.mean(data)"
   ]
  },
  {
   "cell_type": "markdown",
   "id": "1a9512a1",
   "metadata": {},
   "source": [
    "2. Median\n",
    "\n",
    "     In case of outliers we should use median"
   ]
  },
  {
   "cell_type": "code",
   "execution_count": 8,
   "id": "35198056",
   "metadata": {},
   "outputs": [],
   "source": [
    "data = [1,2,3,4,5,15]"
   ]
  },
  {
   "cell_type": "code",
   "execution_count": 9,
   "id": "119271e9",
   "metadata": {},
   "outputs": [
    {
     "data": {
      "text/plain": [
       "5.0"
      ]
     },
     "execution_count": 9,
     "metadata": {},
     "output_type": "execute_result"
    }
   ],
   "source": [
    "np.mean(data)"
   ]
  },
  {
   "cell_type": "code",
   "execution_count": 10,
   "id": "85ad57e3",
   "metadata": {},
   "outputs": [
    {
     "data": {
      "text/plain": [
       "3.5"
      ]
     },
     "execution_count": 10,
     "metadata": {},
     "output_type": "execute_result"
    }
   ],
   "source": [
    "np.median(data)"
   ]
  },
  {
   "cell_type": "code",
   "execution_count": 11,
   "id": "916068c6",
   "metadata": {},
   "outputs": [],
   "source": [
    "# You can see difference after adding outliers to data."
   ]
  },
  {
   "cell_type": "markdown",
   "id": "be592ee5",
   "metadata": {},
   "source": [
    "3. Mode"
   ]
  },
  {
   "cell_type": "code",
   "execution_count": 12,
   "id": "051d1da0",
   "metadata": {},
   "outputs": [],
   "source": [
    "from scipy import stats"
   ]
  },
  {
   "cell_type": "code",
   "execution_count": 14,
   "id": "c3554eb6",
   "metadata": {},
   "outputs": [],
   "source": [
    "data = [11,11,45,45,45,45,234]"
   ]
  },
  {
   "cell_type": "code",
   "execution_count": 15,
   "id": "774d1977",
   "metadata": {},
   "outputs": [
    {
     "name": "stderr",
     "output_type": "stream",
     "text": [
      "C:\\Users\\DELL\\AppData\\Local\\Temp\\ipykernel_13920\\3267261142.py:1: FutureWarning: Unlike other reduction functions (e.g. `skew`, `kurtosis`), the default behavior of `mode` typically preserves the axis it acts along. In SciPy 1.11.0, this behavior will change: the default value of `keepdims` will become False, the `axis` over which the statistic is taken will be eliminated, and the value None will no longer be accepted. Set `keepdims` to True or False to avoid this warning.\n",
      "  stats.mode(data)\n"
     ]
    },
    {
     "data": {
      "text/plain": [
       "ModeResult(mode=array([45]), count=array([4]))"
      ]
     },
     "execution_count": 15,
     "metadata": {},
     "output_type": "execute_result"
    }
   ],
   "source": [
    "stats.mode(data)"
   ]
  },
  {
   "cell_type": "code",
   "execution_count": null,
   "id": "86609424",
   "metadata": {},
   "outputs": [],
   "source": []
  }
 ],
 "metadata": {
  "kernelspec": {
   "display_name": "Python 3 (ipykernel)",
   "language": "python",
   "name": "python3"
  },
  "language_info": {
   "codemirror_mode": {
    "name": "ipython",
    "version": 3
   },
   "file_extension": ".py",
   "mimetype": "text/x-python",
   "name": "python",
   "nbconvert_exporter": "python",
   "pygments_lexer": "ipython3",
   "version": "3.11.2"
  }
 },
 "nbformat": 4,
 "nbformat_minor": 5
}
